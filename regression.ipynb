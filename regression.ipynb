{
 "cells": [
  {
   "cell_type": "code",
   "execution_count": 1,
   "id": "initial_id",
   "metadata": {
    "collapsed": true,
    "ExecuteTime": {
     "end_time": "2024-01-06T12:31:17.282505500Z",
     "start_time": "2024-01-06T12:31:12.060731500Z"
    }
   },
   "outputs": [],
   "source": [
    "import pandas as pd\n",
    "import numpy as np\n",
    "from ydata_profiling import ProfileReport"
   ]
  },
  {
   "cell_type": "code",
   "execution_count": 12,
   "outputs": [],
   "source": [
    "from sklearn.model_selection import train_test_split\n",
    "from sklearn.linear_model import LinearRegression\n",
    "from sklearn.multioutput import MultiOutputRegressor\n",
    "from sklearn.metrics import mean_squared_error"
   ],
   "metadata": {
    "collapsed": false,
    "ExecuteTime": {
     "end_time": "2024-01-06T12:50:16.450008300Z",
     "start_time": "2024-01-06T12:50:16.332222Z"
    }
   },
   "id": "dd6ed7e5e5d93dba"
  },
  {
   "cell_type": "markdown",
   "source": [
    "read data"
   ],
   "metadata": {
    "collapsed": false
   },
   "id": "ab57296a57216ea7"
  },
  {
   "cell_type": "code",
   "execution_count": 16,
   "outputs": [],
   "source": [
    "dataframe = pd.read_csv('dataset/development.csv')"
   ],
   "metadata": {
    "collapsed": false,
    "ExecuteTime": {
     "end_time": "2024-01-06T12:58:50.646413Z",
     "start_time": "2024-01-06T12:58:46.639772Z"
    }
   },
   "id": "119d57c203cff812"
  },
  {
   "cell_type": "code",
   "execution_count": 3,
   "outputs": [
    {
     "name": "stdout",
     "output_type": "stream",
     "text": [
      "(385500, 92)\n",
      "Index(['x', 'y', 'pmax[0]', 'negpmax[0]', 'area[0]', 'tmax[0]', 'rms[0]',\n",
      "       'pmax[1]', 'negpmax[1]', 'area[1]', 'tmax[1]', 'rms[1]', 'pmax[2]',\n",
      "       'negpmax[2]', 'area[2]', 'tmax[2]', 'rms[2]', 'pmax[3]', 'negpmax[3]',\n",
      "       'area[3]', 'tmax[3]', 'rms[3]', 'pmax[4]', 'negpmax[4]', 'area[4]',\n",
      "       'tmax[4]', 'rms[4]', 'pmax[5]', 'negpmax[5]', 'area[5]', 'tmax[5]',\n",
      "       'rms[5]', 'pmax[6]', 'negpmax[6]', 'area[6]', 'tmax[6]', 'rms[6]',\n",
      "       'pmax[7]', 'negpmax[7]', 'area[7]', 'tmax[7]', 'rms[7]', 'pmax[8]',\n",
      "       'negpmax[8]', 'area[8]', 'tmax[8]', 'rms[8]', 'pmax[9]', 'negpmax[9]',\n",
      "       'area[9]', 'tmax[9]', 'rms[9]', 'pmax[10]', 'negpmax[10]', 'area[10]',\n",
      "       'tmax[10]', 'rms[10]', 'pmax[11]', 'negpmax[11]', 'area[11]',\n",
      "       'tmax[11]', 'rms[11]', 'pmax[12]', 'negpmax[12]', 'area[12]',\n",
      "       'tmax[12]', 'rms[12]', 'pmax[13]', 'negpmax[13]', 'area[13]',\n",
      "       'tmax[13]', 'rms[13]', 'pmax[14]', 'negpmax[14]', 'area[14]',\n",
      "       'tmax[14]', 'rms[14]', 'pmax[15]', 'negpmax[15]', 'area[15]',\n",
      "       'tmax[15]', 'rms[15]', 'pmax[16]', 'negpmax[16]', 'area[16]',\n",
      "       'tmax[16]', 'rms[16]', 'pmax[17]', 'negpmax[17]', 'area[17]',\n",
      "       'tmax[17]', 'rms[17]'],\n",
      "      dtype='object')\n"
     ]
    },
    {
     "data": {
      "text/plain": "       x      y   pmax[0]  negpmax[0]   area[0]     tmax[0]    rms[0]  \\\n0  200.0  200.0  4.066907  -17.690173  2.847932    0.600000  2.007042   \n1  200.0  200.0  5.916801   -4.717111  5.792778   79.765174  1.564535   \n2  200.0  200.0  4.286652   -5.316132  2.356390   74.600000  1.404622   \n3  200.0  200.0  4.003635   -4.617459  2.189005   43.000000  1.512162   \n4  200.0  200.0  4.448146   -4.848743  3.997002  196.667482  1.101113   \n\n    pmax[1]  negpmax[1]   area[1]  ...    pmax[16]  negpmax[16]    area[16]  \\\n0  5.409161  -17.721210  4.538778  ...  607.109118   -36.282996  583.899899   \n1  4.414289   -4.736827  3.720435  ...  630.348007   -39.715988  580.042799   \n2  4.567191   -5.985437  3.490490  ...  613.880342   -40.679678  580.407491   \n3  5.019058   -4.229949  6.786200  ...  600.714957   -43.206601  579.882635   \n4  3.250262   -5.783587  2.449456  ...  609.723785   -43.570892  590.156125   \n\n    tmax[16]   rms[16]    pmax[17]  negpmax[17]    area[17]   tmax[17]  \\\n0  72.373094  0.374498  614.916861   -39.848523  591.852768  72.331028   \n1  71.029155  0.403258  624.950701   -41.266681  586.569646  71.089058   \n2  71.892264  0.568777  596.437125   -42.712286  574.091695  71.943934   \n3  72.357388  0.255483  591.763739   -50.681940  584.099483  72.333282   \n4  71.249130  0.413855  606.917023   -49.923819  584.316142  71.242904   \n\n    rms[17]  \n0  0.405595  \n1  0.405890  \n2  0.498019  \n3  0.336454  \n4  0.293824  \n\n[5 rows x 92 columns]",
      "text/html": "<div>\n<style scoped>\n    .dataframe tbody tr th:only-of-type {\n        vertical-align: middle;\n    }\n\n    .dataframe tbody tr th {\n        vertical-align: top;\n    }\n\n    .dataframe thead th {\n        text-align: right;\n    }\n</style>\n<table border=\"1\" class=\"dataframe\">\n  <thead>\n    <tr style=\"text-align: right;\">\n      <th></th>\n      <th>x</th>\n      <th>y</th>\n      <th>pmax[0]</th>\n      <th>negpmax[0]</th>\n      <th>area[0]</th>\n      <th>tmax[0]</th>\n      <th>rms[0]</th>\n      <th>pmax[1]</th>\n      <th>negpmax[1]</th>\n      <th>area[1]</th>\n      <th>...</th>\n      <th>pmax[16]</th>\n      <th>negpmax[16]</th>\n      <th>area[16]</th>\n      <th>tmax[16]</th>\n      <th>rms[16]</th>\n      <th>pmax[17]</th>\n      <th>negpmax[17]</th>\n      <th>area[17]</th>\n      <th>tmax[17]</th>\n      <th>rms[17]</th>\n    </tr>\n  </thead>\n  <tbody>\n    <tr>\n      <th>0</th>\n      <td>200.0</td>\n      <td>200.0</td>\n      <td>4.066907</td>\n      <td>-17.690173</td>\n      <td>2.847932</td>\n      <td>0.600000</td>\n      <td>2.007042</td>\n      <td>5.409161</td>\n      <td>-17.721210</td>\n      <td>4.538778</td>\n      <td>...</td>\n      <td>607.109118</td>\n      <td>-36.282996</td>\n      <td>583.899899</td>\n      <td>72.373094</td>\n      <td>0.374498</td>\n      <td>614.916861</td>\n      <td>-39.848523</td>\n      <td>591.852768</td>\n      <td>72.331028</td>\n      <td>0.405595</td>\n    </tr>\n    <tr>\n      <th>1</th>\n      <td>200.0</td>\n      <td>200.0</td>\n      <td>5.916801</td>\n      <td>-4.717111</td>\n      <td>5.792778</td>\n      <td>79.765174</td>\n      <td>1.564535</td>\n      <td>4.414289</td>\n      <td>-4.736827</td>\n      <td>3.720435</td>\n      <td>...</td>\n      <td>630.348007</td>\n      <td>-39.715988</td>\n      <td>580.042799</td>\n      <td>71.029155</td>\n      <td>0.403258</td>\n      <td>624.950701</td>\n      <td>-41.266681</td>\n      <td>586.569646</td>\n      <td>71.089058</td>\n      <td>0.405890</td>\n    </tr>\n    <tr>\n      <th>2</th>\n      <td>200.0</td>\n      <td>200.0</td>\n      <td>4.286652</td>\n      <td>-5.316132</td>\n      <td>2.356390</td>\n      <td>74.600000</td>\n      <td>1.404622</td>\n      <td>4.567191</td>\n      <td>-5.985437</td>\n      <td>3.490490</td>\n      <td>...</td>\n      <td>613.880342</td>\n      <td>-40.679678</td>\n      <td>580.407491</td>\n      <td>71.892264</td>\n      <td>0.568777</td>\n      <td>596.437125</td>\n      <td>-42.712286</td>\n      <td>574.091695</td>\n      <td>71.943934</td>\n      <td>0.498019</td>\n    </tr>\n    <tr>\n      <th>3</th>\n      <td>200.0</td>\n      <td>200.0</td>\n      <td>4.003635</td>\n      <td>-4.617459</td>\n      <td>2.189005</td>\n      <td>43.000000</td>\n      <td>1.512162</td>\n      <td>5.019058</td>\n      <td>-4.229949</td>\n      <td>6.786200</td>\n      <td>...</td>\n      <td>600.714957</td>\n      <td>-43.206601</td>\n      <td>579.882635</td>\n      <td>72.357388</td>\n      <td>0.255483</td>\n      <td>591.763739</td>\n      <td>-50.681940</td>\n      <td>584.099483</td>\n      <td>72.333282</td>\n      <td>0.336454</td>\n    </tr>\n    <tr>\n      <th>4</th>\n      <td>200.0</td>\n      <td>200.0</td>\n      <td>4.448146</td>\n      <td>-4.848743</td>\n      <td>3.997002</td>\n      <td>196.667482</td>\n      <td>1.101113</td>\n      <td>3.250262</td>\n      <td>-5.783587</td>\n      <td>2.449456</td>\n      <td>...</td>\n      <td>609.723785</td>\n      <td>-43.570892</td>\n      <td>590.156125</td>\n      <td>71.249130</td>\n      <td>0.413855</td>\n      <td>606.917023</td>\n      <td>-49.923819</td>\n      <td>584.316142</td>\n      <td>71.242904</td>\n      <td>0.293824</td>\n    </tr>\n  </tbody>\n</table>\n<p>5 rows × 92 columns</p>\n</div>"
     },
     "execution_count": 3,
     "metadata": {},
     "output_type": "execute_result"
    }
   ],
   "source": [
    "print(dataframe.shape)\n",
    "print(dataframe.columns)\n",
    "dataframe.head()"
   ],
   "metadata": {
    "collapsed": false,
    "ExecuteTime": {
     "end_time": "2024-01-06T12:31:28.180065400Z",
     "start_time": "2024-01-06T12:31:28.147331Z"
    }
   },
   "id": "db7ce3e56e4f17ca"
  },
  {
   "cell_type": "code",
   "execution_count": 4,
   "outputs": [
    {
     "data": {
      "text/plain": "0          4.559802\n1         15.498431\n2          4.168692\n3          3.521313\n4          3.991907\n            ...    \n385495     3.577979\n385496    15.737668\n385497     5.385049\n385498    15.326770\n385499     5.624060\nName: pmax[12], Length: 385500, dtype: float64"
     },
     "execution_count": 4,
     "metadata": {},
     "output_type": "execute_result"
    }
   ],
   "source": [
    "dataframe['pmax[12]']"
   ],
   "metadata": {
    "collapsed": false,
    "ExecuteTime": {
     "end_time": "2024-01-06T12:31:33.211432400Z",
     "start_time": "2024-01-06T12:31:33.198010800Z"
    }
   },
   "id": "49c3a215d7a8f9a1"
  },
  {
   "cell_type": "code",
   "execution_count": 5,
   "outputs": [
    {
     "data": {
      "text/plain": "Summarize dataset:   0%|          | 0/5 [00:00<?, ?it/s]",
      "application/vnd.jupyter.widget-view+json": {
       "version_major": 2,
       "version_minor": 0,
       "model_id": "26a33a73542145fcb67e71a677d71730"
      }
     },
     "metadata": {},
     "output_type": "display_data"
    },
    {
     "ename": "KeyboardInterrupt",
     "evalue": "",
     "output_type": "error",
     "traceback": [
      "\u001B[1;31m---------------------------------------------------------------------------\u001B[0m",
      "\u001B[1;31mIndexError\u001B[0m                                Traceback (most recent call last)",
      "File \u001B[1;32mC:\\Program Files\\Python39\\lib\\multiprocessing\\pool.py:853\u001B[0m, in \u001B[0;36mIMapIterator.next\u001B[1;34m(self, timeout)\u001B[0m\n\u001B[0;32m    852\u001B[0m \u001B[38;5;28;01mtry\u001B[39;00m:\n\u001B[1;32m--> 853\u001B[0m     item \u001B[38;5;241m=\u001B[39m \u001B[38;5;28;43mself\u001B[39;49m\u001B[38;5;241;43m.\u001B[39;49m\u001B[43m_items\u001B[49m\u001B[38;5;241;43m.\u001B[39;49m\u001B[43mpopleft\u001B[49m\u001B[43m(\u001B[49m\u001B[43m)\u001B[49m\n\u001B[0;32m    854\u001B[0m \u001B[38;5;28;01mexcept\u001B[39;00m \u001B[38;5;167;01mIndexError\u001B[39;00m:\n",
      "\u001B[1;31mIndexError\u001B[0m: pop from an empty deque",
      "\nDuring handling of the above exception, another exception occurred:\n",
      "\u001B[1;31mKeyboardInterrupt\u001B[0m                         Traceback (most recent call last)",
      "Cell \u001B[1;32mIn[5], line 5\u001B[0m\n\u001B[0;32m      1\u001B[0m \u001B[38;5;66;03m# this is only for reporting dont run if you dont need it\u001B[39;00m\n\u001B[0;32m      2\u001B[0m \n\u001B[0;32m      3\u001B[0m \u001B[38;5;66;03m# it is too heavy if you don't have enough power as I do divide it\u001B[39;00m\n\u001B[0;32m      4\u001B[0m report \u001B[38;5;241m=\u001B[39m ProfileReport(dataframe, title\u001B[38;5;241m=\u001B[39m\u001B[38;5;124m'\u001B[39m\u001B[38;5;124mdf\u001B[39m\u001B[38;5;124m'\u001B[39m, explorative\u001B[38;5;241m=\u001B[39m\u001B[38;5;28;01mTrue\u001B[39;00m)\n\u001B[1;32m----> 5\u001B[0m \u001B[43mreport\u001B[49m\u001B[38;5;241;43m.\u001B[39;49m\u001B[43mto_file\u001B[49m\u001B[43m(\u001B[49m\u001B[38;5;124;43m'\u001B[39;49m\u001B[38;5;124;43mdf_initial.html\u001B[39;49m\u001B[38;5;124;43m'\u001B[39;49m\u001B[43m)\u001B[49m\n",
      "File \u001B[1;32mC:\\mine\\Sinaptica\\flask_project\\dsl\\Resistive_Silicon_Detector_2D_surface_detector_regression_predictor\\.venv\\lib\\site-packages\\ydata_profiling\\profile_report.py:355\u001B[0m, in \u001B[0;36mProfileReport.to_file\u001B[1;34m(self, output_file, silent)\u001B[0m\n\u001B[0;32m    352\u001B[0m         \u001B[38;5;28mself\u001B[39m\u001B[38;5;241m.\u001B[39mconfig\u001B[38;5;241m.\u001B[39mhtml\u001B[38;5;241m.\u001B[39massets_prefix \u001B[38;5;241m=\u001B[39m \u001B[38;5;28mstr\u001B[39m(output_file\u001B[38;5;241m.\u001B[39mstem) \u001B[38;5;241m+\u001B[39m \u001B[38;5;124m\"\u001B[39m\u001B[38;5;124m_assets\u001B[39m\u001B[38;5;124m\"\u001B[39m\n\u001B[0;32m    353\u001B[0m     create_html_assets(\u001B[38;5;28mself\u001B[39m\u001B[38;5;241m.\u001B[39mconfig, output_file)\n\u001B[1;32m--> 355\u001B[0m data \u001B[38;5;241m=\u001B[39m \u001B[38;5;28mself\u001B[39m\u001B[38;5;241m.\u001B[39mto_html()\n\u001B[0;32m    357\u001B[0m \u001B[38;5;28;01mif\u001B[39;00m output_file\u001B[38;5;241m.\u001B[39msuffix \u001B[38;5;241m!=\u001B[39m \u001B[38;5;124m\"\u001B[39m\u001B[38;5;124m.html\u001B[39m\u001B[38;5;124m\"\u001B[39m:\n\u001B[0;32m    358\u001B[0m     suffix \u001B[38;5;241m=\u001B[39m output_file\u001B[38;5;241m.\u001B[39msuffix\n",
      "File \u001B[1;32mC:\\mine\\Sinaptica\\flask_project\\dsl\\Resistive_Silicon_Detector_2D_surface_detector_regression_predictor\\.venv\\lib\\site-packages\\ydata_profiling\\profile_report.py:470\u001B[0m, in \u001B[0;36mProfileReport.to_html\u001B[1;34m(self)\u001B[0m\n\u001B[0;32m    462\u001B[0m \u001B[38;5;28;01mdef\u001B[39;00m \u001B[38;5;21mto_html\u001B[39m(\u001B[38;5;28mself\u001B[39m) \u001B[38;5;241m-\u001B[39m\u001B[38;5;241m>\u001B[39m \u001B[38;5;28mstr\u001B[39m:\n\u001B[0;32m    463\u001B[0m \u001B[38;5;250m    \u001B[39m\u001B[38;5;124;03m\"\"\"Generate and return complete template as lengthy string\u001B[39;00m\n\u001B[0;32m    464\u001B[0m \u001B[38;5;124;03m        for using with frameworks.\u001B[39;00m\n\u001B[0;32m    465\u001B[0m \n\u001B[1;32m   (...)\u001B[0m\n\u001B[0;32m    468\u001B[0m \n\u001B[0;32m    469\u001B[0m \u001B[38;5;124;03m    \"\"\"\u001B[39;00m\n\u001B[1;32m--> 470\u001B[0m     \u001B[38;5;28;01mreturn\u001B[39;00m \u001B[38;5;28mself\u001B[39m\u001B[38;5;241m.\u001B[39mhtml\n",
      "File \u001B[1;32mC:\\mine\\Sinaptica\\flask_project\\dsl\\Resistive_Silicon_Detector_2D_surface_detector_regression_predictor\\.venv\\lib\\site-packages\\ydata_profiling\\profile_report.py:277\u001B[0m, in \u001B[0;36mProfileReport.html\u001B[1;34m(self)\u001B[0m\n\u001B[0;32m    274\u001B[0m \u001B[38;5;129m@property\u001B[39m\n\u001B[0;32m    275\u001B[0m \u001B[38;5;28;01mdef\u001B[39;00m \u001B[38;5;21mhtml\u001B[39m(\u001B[38;5;28mself\u001B[39m) \u001B[38;5;241m-\u001B[39m\u001B[38;5;241m>\u001B[39m \u001B[38;5;28mstr\u001B[39m:\n\u001B[0;32m    276\u001B[0m     \u001B[38;5;28;01mif\u001B[39;00m \u001B[38;5;28mself\u001B[39m\u001B[38;5;241m.\u001B[39m_html \u001B[38;5;129;01mis\u001B[39;00m \u001B[38;5;28;01mNone\u001B[39;00m:\n\u001B[1;32m--> 277\u001B[0m         \u001B[38;5;28mself\u001B[39m\u001B[38;5;241m.\u001B[39m_html \u001B[38;5;241m=\u001B[39m \u001B[38;5;28mself\u001B[39m\u001B[38;5;241m.\u001B[39m_render_html()\n\u001B[0;32m    278\u001B[0m     \u001B[38;5;28;01mreturn\u001B[39;00m \u001B[38;5;28mself\u001B[39m\u001B[38;5;241m.\u001B[39m_html\n",
      "File \u001B[1;32mC:\\mine\\Sinaptica\\flask_project\\dsl\\Resistive_Silicon_Detector_2D_surface_detector_regression_predictor\\.venv\\lib\\site-packages\\ydata_profiling\\profile_report.py:385\u001B[0m, in \u001B[0;36mProfileReport._render_html\u001B[1;34m(self)\u001B[0m\n\u001B[0;32m    382\u001B[0m \u001B[38;5;28;01mdef\u001B[39;00m \u001B[38;5;21m_render_html\u001B[39m(\u001B[38;5;28mself\u001B[39m) \u001B[38;5;241m-\u001B[39m\u001B[38;5;241m>\u001B[39m \u001B[38;5;28mstr\u001B[39m:\n\u001B[0;32m    383\u001B[0m     \u001B[38;5;28;01mfrom\u001B[39;00m \u001B[38;5;21;01mydata_profiling\u001B[39;00m\u001B[38;5;21;01m.\u001B[39;00m\u001B[38;5;21;01mreport\u001B[39;00m\u001B[38;5;21;01m.\u001B[39;00m\u001B[38;5;21;01mpresentation\u001B[39;00m\u001B[38;5;21;01m.\u001B[39;00m\u001B[38;5;21;01mflavours\u001B[39;00m \u001B[38;5;28;01mimport\u001B[39;00m HTMLReport\n\u001B[1;32m--> 385\u001B[0m     report \u001B[38;5;241m=\u001B[39m \u001B[38;5;28mself\u001B[39m\u001B[38;5;241m.\u001B[39mreport\n\u001B[0;32m    387\u001B[0m     \u001B[38;5;28;01mwith\u001B[39;00m tqdm(\n\u001B[0;32m    388\u001B[0m         total\u001B[38;5;241m=\u001B[39m\u001B[38;5;241m1\u001B[39m, desc\u001B[38;5;241m=\u001B[39m\u001B[38;5;124m\"\u001B[39m\u001B[38;5;124mRender HTML\u001B[39m\u001B[38;5;124m\"\u001B[39m, disable\u001B[38;5;241m=\u001B[39m\u001B[38;5;129;01mnot\u001B[39;00m \u001B[38;5;28mself\u001B[39m\u001B[38;5;241m.\u001B[39mconfig\u001B[38;5;241m.\u001B[39mprogress_bar\n\u001B[0;32m    389\u001B[0m     ) \u001B[38;5;28;01mas\u001B[39;00m pbar:\n\u001B[0;32m    390\u001B[0m         html \u001B[38;5;241m=\u001B[39m HTMLReport(copy\u001B[38;5;241m.\u001B[39mdeepcopy(report))\u001B[38;5;241m.\u001B[39mrender(\n\u001B[0;32m    391\u001B[0m             nav\u001B[38;5;241m=\u001B[39m\u001B[38;5;28mself\u001B[39m\u001B[38;5;241m.\u001B[39mconfig\u001B[38;5;241m.\u001B[39mhtml\u001B[38;5;241m.\u001B[39mnavbar_show,\n\u001B[0;32m    392\u001B[0m             offline\u001B[38;5;241m=\u001B[39m\u001B[38;5;28mself\u001B[39m\u001B[38;5;241m.\u001B[39mconfig\u001B[38;5;241m.\u001B[39mhtml\u001B[38;5;241m.\u001B[39muse_local_assets,\n\u001B[1;32m   (...)\u001B[0m\n\u001B[0;32m    400\u001B[0m             version\u001B[38;5;241m=\u001B[39m\u001B[38;5;28mself\u001B[39m\u001B[38;5;241m.\u001B[39mdescription_set\u001B[38;5;241m.\u001B[39mpackage[\u001B[38;5;124m\"\u001B[39m\u001B[38;5;124mydata_profiling_version\u001B[39m\u001B[38;5;124m\"\u001B[39m],\n\u001B[0;32m    401\u001B[0m         )\n",
      "File \u001B[1;32mC:\\mine\\Sinaptica\\flask_project\\dsl\\Resistive_Silicon_Detector_2D_surface_detector_regression_predictor\\.venv\\lib\\site-packages\\ydata_profiling\\profile_report.py:271\u001B[0m, in \u001B[0;36mProfileReport.report\u001B[1;34m(self)\u001B[0m\n\u001B[0;32m    268\u001B[0m \u001B[38;5;129m@property\u001B[39m\n\u001B[0;32m    269\u001B[0m \u001B[38;5;28;01mdef\u001B[39;00m \u001B[38;5;21mreport\u001B[39m(\u001B[38;5;28mself\u001B[39m) \u001B[38;5;241m-\u001B[39m\u001B[38;5;241m>\u001B[39m Root:\n\u001B[0;32m    270\u001B[0m     \u001B[38;5;28;01mif\u001B[39;00m \u001B[38;5;28mself\u001B[39m\u001B[38;5;241m.\u001B[39m_report \u001B[38;5;129;01mis\u001B[39;00m \u001B[38;5;28;01mNone\u001B[39;00m:\n\u001B[1;32m--> 271\u001B[0m         \u001B[38;5;28mself\u001B[39m\u001B[38;5;241m.\u001B[39m_report \u001B[38;5;241m=\u001B[39m get_report_structure(\u001B[38;5;28mself\u001B[39m\u001B[38;5;241m.\u001B[39mconfig, \u001B[38;5;28mself\u001B[39m\u001B[38;5;241m.\u001B[39mdescription_set)\n\u001B[0;32m    272\u001B[0m     \u001B[38;5;28;01mreturn\u001B[39;00m \u001B[38;5;28mself\u001B[39m\u001B[38;5;241m.\u001B[39m_report\n",
      "File \u001B[1;32mC:\\mine\\Sinaptica\\flask_project\\dsl\\Resistive_Silicon_Detector_2D_surface_detector_regression_predictor\\.venv\\lib\\site-packages\\ydata_profiling\\profile_report.py:253\u001B[0m, in \u001B[0;36mProfileReport.description_set\u001B[1;34m(self)\u001B[0m\n\u001B[0;32m    250\u001B[0m \u001B[38;5;129m@property\u001B[39m\n\u001B[0;32m    251\u001B[0m \u001B[38;5;28;01mdef\u001B[39;00m \u001B[38;5;21mdescription_set\u001B[39m(\u001B[38;5;28mself\u001B[39m) \u001B[38;5;241m-\u001B[39m\u001B[38;5;241m>\u001B[39m BaseDescription:\n\u001B[0;32m    252\u001B[0m     \u001B[38;5;28;01mif\u001B[39;00m \u001B[38;5;28mself\u001B[39m\u001B[38;5;241m.\u001B[39m_description_set \u001B[38;5;129;01mis\u001B[39;00m \u001B[38;5;28;01mNone\u001B[39;00m:\n\u001B[1;32m--> 253\u001B[0m         \u001B[38;5;28mself\u001B[39m\u001B[38;5;241m.\u001B[39m_description_set \u001B[38;5;241m=\u001B[39m describe_df(\n\u001B[0;32m    254\u001B[0m             \u001B[38;5;28mself\u001B[39m\u001B[38;5;241m.\u001B[39mconfig,\n\u001B[0;32m    255\u001B[0m             \u001B[38;5;28mself\u001B[39m\u001B[38;5;241m.\u001B[39mdf,\n\u001B[0;32m    256\u001B[0m             \u001B[38;5;28mself\u001B[39m\u001B[38;5;241m.\u001B[39msummarizer,\n\u001B[0;32m    257\u001B[0m             \u001B[38;5;28mself\u001B[39m\u001B[38;5;241m.\u001B[39mtypeset,\n\u001B[0;32m    258\u001B[0m             \u001B[38;5;28mself\u001B[39m\u001B[38;5;241m.\u001B[39m_sample,\n\u001B[0;32m    259\u001B[0m         )\n\u001B[0;32m    260\u001B[0m     \u001B[38;5;28;01mreturn\u001B[39;00m \u001B[38;5;28mself\u001B[39m\u001B[38;5;241m.\u001B[39m_description_set\n",
      "File \u001B[1;32mC:\\mine\\Sinaptica\\flask_project\\dsl\\Resistive_Silicon_Detector_2D_surface_detector_regression_predictor\\.venv\\lib\\site-packages\\ydata_profiling\\model\\describe.py:74\u001B[0m, in \u001B[0;36mdescribe\u001B[1;34m(config, df, summarizer, typeset, sample)\u001B[0m\n\u001B[0;32m     72\u001B[0m \u001B[38;5;66;03m# Variable-specific\u001B[39;00m\n\u001B[0;32m     73\u001B[0m pbar\u001B[38;5;241m.\u001B[39mtotal \u001B[38;5;241m+\u001B[39m\u001B[38;5;241m=\u001B[39m \u001B[38;5;28mlen\u001B[39m(df\u001B[38;5;241m.\u001B[39mcolumns)\n\u001B[1;32m---> 74\u001B[0m series_description \u001B[38;5;241m=\u001B[39m \u001B[43mget_series_descriptions\u001B[49m\u001B[43m(\u001B[49m\n\u001B[0;32m     75\u001B[0m \u001B[43m    \u001B[49m\u001B[43mconfig\u001B[49m\u001B[43m,\u001B[49m\u001B[43m \u001B[49m\u001B[43mdf\u001B[49m\u001B[43m,\u001B[49m\u001B[43m \u001B[49m\u001B[43msummarizer\u001B[49m\u001B[43m,\u001B[49m\u001B[43m \u001B[49m\u001B[43mtypeset\u001B[49m\u001B[43m,\u001B[49m\u001B[43m \u001B[49m\u001B[43mpbar\u001B[49m\n\u001B[0;32m     76\u001B[0m \u001B[43m\u001B[49m\u001B[43m)\u001B[49m\n\u001B[0;32m     78\u001B[0m pbar\u001B[38;5;241m.\u001B[39mset_postfix_str(\u001B[38;5;124m\"\u001B[39m\u001B[38;5;124mGet variable types\u001B[39m\u001B[38;5;124m\"\u001B[39m)\n\u001B[0;32m     79\u001B[0m pbar\u001B[38;5;241m.\u001B[39mtotal \u001B[38;5;241m+\u001B[39m\u001B[38;5;241m=\u001B[39m \u001B[38;5;241m1\u001B[39m\n",
      "File \u001B[1;32mC:\\mine\\Sinaptica\\flask_project\\dsl\\Resistive_Silicon_Detector_2D_surface_detector_regression_predictor\\.venv\\lib\\site-packages\\multimethod\\__init__.py:328\u001B[0m, in \u001B[0;36mmultimethod.__call__\u001B[1;34m(self, *args, **kwargs)\u001B[0m\n\u001B[0;32m    326\u001B[0m func \u001B[38;5;241m=\u001B[39m \u001B[38;5;28mself\u001B[39m[\u001B[38;5;28mtuple\u001B[39m(func(arg) \u001B[38;5;28;01mfor\u001B[39;00m func, arg \u001B[38;5;129;01min\u001B[39;00m \u001B[38;5;28mzip\u001B[39m(\u001B[38;5;28mself\u001B[39m\u001B[38;5;241m.\u001B[39mtype_checkers, args))]\n\u001B[0;32m    327\u001B[0m \u001B[38;5;28;01mtry\u001B[39;00m:\n\u001B[1;32m--> 328\u001B[0m     \u001B[38;5;28;01mreturn\u001B[39;00m func(\u001B[38;5;241m*\u001B[39margs, \u001B[38;5;241m*\u001B[39m\u001B[38;5;241m*\u001B[39mkwargs)\n\u001B[0;32m    329\u001B[0m \u001B[38;5;28;01mexcept\u001B[39;00m \u001B[38;5;167;01mTypeError\u001B[39;00m \u001B[38;5;28;01mas\u001B[39;00m ex:\n\u001B[0;32m    330\u001B[0m     \u001B[38;5;28;01mraise\u001B[39;00m DispatchError(\u001B[38;5;124mf\u001B[39m\u001B[38;5;124m\"\u001B[39m\u001B[38;5;124mFunction \u001B[39m\u001B[38;5;132;01m{\u001B[39;00mfunc\u001B[38;5;241m.\u001B[39m\u001B[38;5;18m__code__\u001B[39m\u001B[38;5;132;01m}\u001B[39;00m\u001B[38;5;124m\"\u001B[39m) \u001B[38;5;28;01mfrom\u001B[39;00m \u001B[38;5;21;01mex\u001B[39;00m\n",
      "File \u001B[1;32mC:\\mine\\Sinaptica\\flask_project\\dsl\\Resistive_Silicon_Detector_2D_surface_detector_regression_predictor\\.venv\\lib\\site-packages\\ydata_profiling\\model\\pandas\\summary_pandas.py:99\u001B[0m, in \u001B[0;36mpandas_get_series_descriptions\u001B[1;34m(config, df, summarizer, typeset, pbar)\u001B[0m\n\u001B[0;32m     96\u001B[0m \u001B[38;5;28;01melse\u001B[39;00m:\n\u001B[0;32m     97\u001B[0m     \u001B[38;5;66;03m# TODO: use `Pool` for Linux-based systems\u001B[39;00m\n\u001B[0;32m     98\u001B[0m     \u001B[38;5;28;01mwith\u001B[39;00m multiprocessing\u001B[38;5;241m.\u001B[39mpool\u001B[38;5;241m.\u001B[39mThreadPool(pool_size) \u001B[38;5;28;01mas\u001B[39;00m executor:\n\u001B[1;32m---> 99\u001B[0m         \u001B[38;5;28;01mfor\u001B[39;00m i, (column, description) \u001B[38;5;129;01min\u001B[39;00m \u001B[38;5;28menumerate\u001B[39m(\n\u001B[0;32m    100\u001B[0m             executor\u001B[38;5;241m.\u001B[39mimap_unordered(multiprocess_1d, args)\n\u001B[0;32m    101\u001B[0m         ):\n\u001B[0;32m    102\u001B[0m             pbar\u001B[38;5;241m.\u001B[39mset_postfix_str(\u001B[38;5;124mf\u001B[39m\u001B[38;5;124m\"\u001B[39m\u001B[38;5;124mDescribe variable:\u001B[39m\u001B[38;5;132;01m{\u001B[39;00mcolumn\u001B[38;5;132;01m}\u001B[39;00m\u001B[38;5;124m\"\u001B[39m)\n\u001B[0;32m    103\u001B[0m             series_description[column] \u001B[38;5;241m=\u001B[39m description\n",
      "File \u001B[1;32mC:\\Program Files\\Python39\\lib\\multiprocessing\\pool.py:858\u001B[0m, in \u001B[0;36mIMapIterator.next\u001B[1;34m(self, timeout)\u001B[0m\n\u001B[0;32m    856\u001B[0m     \u001B[38;5;28mself\u001B[39m\u001B[38;5;241m.\u001B[39m_pool \u001B[38;5;241m=\u001B[39m \u001B[38;5;28;01mNone\u001B[39;00m\n\u001B[0;32m    857\u001B[0m     \u001B[38;5;28;01mraise\u001B[39;00m \u001B[38;5;167;01mStopIteration\u001B[39;00m \u001B[38;5;28;01mfrom\u001B[39;00m \u001B[38;5;28;01mNone\u001B[39;00m\n\u001B[1;32m--> 858\u001B[0m \u001B[38;5;28;43mself\u001B[39;49m\u001B[38;5;241;43m.\u001B[39;49m\u001B[43m_cond\u001B[49m\u001B[38;5;241;43m.\u001B[39;49m\u001B[43mwait\u001B[49m\u001B[43m(\u001B[49m\u001B[43mtimeout\u001B[49m\u001B[43m)\u001B[49m\n\u001B[0;32m    859\u001B[0m \u001B[38;5;28;01mtry\u001B[39;00m:\n\u001B[0;32m    860\u001B[0m     item \u001B[38;5;241m=\u001B[39m \u001B[38;5;28mself\u001B[39m\u001B[38;5;241m.\u001B[39m_items\u001B[38;5;241m.\u001B[39mpopleft()\n",
      "File \u001B[1;32mC:\\Program Files\\Python39\\lib\\threading.py:312\u001B[0m, in \u001B[0;36mCondition.wait\u001B[1;34m(self, timeout)\u001B[0m\n\u001B[0;32m    310\u001B[0m \u001B[38;5;28;01mtry\u001B[39;00m:    \u001B[38;5;66;03m# restore state no matter what (e.g., KeyboardInterrupt)\u001B[39;00m\n\u001B[0;32m    311\u001B[0m     \u001B[38;5;28;01mif\u001B[39;00m timeout \u001B[38;5;129;01mis\u001B[39;00m \u001B[38;5;28;01mNone\u001B[39;00m:\n\u001B[1;32m--> 312\u001B[0m         \u001B[43mwaiter\u001B[49m\u001B[38;5;241;43m.\u001B[39;49m\u001B[43macquire\u001B[49m\u001B[43m(\u001B[49m\u001B[43m)\u001B[49m\n\u001B[0;32m    313\u001B[0m         gotit \u001B[38;5;241m=\u001B[39m \u001B[38;5;28;01mTrue\u001B[39;00m\n\u001B[0;32m    314\u001B[0m     \u001B[38;5;28;01melse\u001B[39;00m:\n",
      "\u001B[1;31mKeyboardInterrupt\u001B[0m: "
     ]
    }
   ],
   "source": [
    "# this is only for reporting **!!! don't run !!!** if you dont need it\n",
    "# it is too heavy if you don't have enough power as I do divide it\n",
    "report = ProfileReport(dataframe, title='df', explorative=True)\n",
    "report.to_file('df_initial.html')\n"
   ],
   "metadata": {
    "collapsed": false,
    "ExecuteTime": {
     "end_time": "2024-01-06T12:31:44.691808100Z",
     "start_time": "2024-01-06T12:31:37.049520700Z"
    }
   },
   "id": "b635d2154061ff61"
  },
  {
   "cell_type": "code",
   "execution_count": null,
   "outputs": [],
   "source": [
    "#divide by ten columns you can just slice it by ten columns and create reports it is easier in that way\n",
    "columns_  = dataframe.columns.to_list()\n",
    "groups_ = [columns_[i:i+10] for i in range(0, len(columns_), 10)]\n",
    "\n",
    "for i,group in enumerate(groups_):\n",
    "    df_group = dataframe[group]\n",
    "    report = ProfileReport(df_group, title=f'Dataframe-group {i+1}', explorative=True)\n",
    "    report.to_file('reports/'+f'report_group_{i+1}.html')\n"
   ],
   "metadata": {
    "collapsed": false
   },
   "id": "d543f923c9ad72c3"
  },
  {
   "cell_type": "markdown",
   "source": [
    "# prepare for test and split"
   ],
   "metadata": {
    "collapsed": false
   },
   "id": "935d53d758ec9c1b"
  },
  {
   "cell_type": "code",
   "execution_count": 17,
   "outputs": [],
   "source": [
    "# Combine 'x' and 'y' into a new 'target' column\n",
    "dataframe = dataframe.assign(target=list(zip(dataframe['x'], dataframe['y'])))\n",
    "# Drop the original 'x' and 'y' columns if needed\n",
    "dataframe = dataframe.drop(['x', 'y'], axis=1)\n",
    "# Convert 'target' to a 2D array\n",
    "y = pd.DataFrame(dataframe['target'].tolist(), columns=['x', 'y'])\n"
   ],
   "metadata": {
    "collapsed": false,
    "ExecuteTime": {
     "end_time": "2024-01-06T12:59:04.228267200Z",
     "start_time": "2024-01-06T12:59:03.923883500Z"
    }
   },
   "id": "2182604fa3506ee0"
  },
  {
   "cell_type": "code",
   "execution_count": 18,
   "outputs": [
    {
     "data": {
      "text/plain": "0    (200.0, 200.0)\n1    (200.0, 200.0)\n2    (200.0, 200.0)\n3    (200.0, 200.0)\n4    (200.0, 200.0)\nName: target, dtype: object"
     },
     "execution_count": 18,
     "metadata": {},
     "output_type": "execute_result"
    }
   ],
   "source": [
    "dataframe['target'].head()"
   ],
   "metadata": {
    "collapsed": false,
    "ExecuteTime": {
     "end_time": "2024-01-06T12:59:07.681190600Z",
     "start_time": "2024-01-06T12:59:07.670281300Z"
    }
   },
   "id": "5f4fb0db6ab77da2"
  },
  {
   "cell_type": "code",
   "execution_count": 22,
   "outputs": [
    {
     "data": {
      "text/plain": "((308400, 90), (77100, 90))"
     },
     "execution_count": 22,
     "metadata": {},
     "output_type": "execute_result"
    }
   ],
   "source": [
    "#divide development to test ad train\n",
    "X_train, X_test, y_train, y_test = train_test_split(\n",
    "    dataframe.drop(labels=['target'], axis=1),  # drop the target\n",
    "    y,  # just the target\n",
    "    test_size=0.2,\n",
    "    random_state=0)\n",
    "\n",
    "X_train.shape, X_test.shape\n"
   ],
   "metadata": {
    "collapsed": false,
    "ExecuteTime": {
     "end_time": "2024-01-06T12:59:32.800938300Z",
     "start_time": "2024-01-06T12:59:32.226041800Z"
    }
   },
   "id": "f4627bc4aa4ae0f6"
  },
  {
   "cell_type": "code",
   "execution_count": 23,
   "outputs": [],
   "source": [
    "# Create a multi-output regression pipeline with a linear regression model\n",
    "model = MultiOutputRegressor(LinearRegression())"
   ],
   "metadata": {
    "collapsed": false,
    "ExecuteTime": {
     "end_time": "2024-01-06T12:59:35.061309600Z",
     "start_time": "2024-01-06T12:59:35.056292Z"
    }
   },
   "id": "1c6f1890b6c908c7"
  },
  {
   "cell_type": "code",
   "execution_count": 24,
   "outputs": [
    {
     "data": {
      "text/plain": "MultiOutputRegressor(estimator=LinearRegression())",
      "text/html": "<style>#sk-container-id-1 {color: black;}#sk-container-id-1 pre{padding: 0;}#sk-container-id-1 div.sk-toggleable {background-color: white;}#sk-container-id-1 label.sk-toggleable__label {cursor: pointer;display: block;width: 100%;margin-bottom: 0;padding: 0.3em;box-sizing: border-box;text-align: center;}#sk-container-id-1 label.sk-toggleable__label-arrow:before {content: \"▸\";float: left;margin-right: 0.25em;color: #696969;}#sk-container-id-1 label.sk-toggleable__label-arrow:hover:before {color: black;}#sk-container-id-1 div.sk-estimator:hover label.sk-toggleable__label-arrow:before {color: black;}#sk-container-id-1 div.sk-toggleable__content {max-height: 0;max-width: 0;overflow: hidden;text-align: left;background-color: #f0f8ff;}#sk-container-id-1 div.sk-toggleable__content pre {margin: 0.2em;color: black;border-radius: 0.25em;background-color: #f0f8ff;}#sk-container-id-1 input.sk-toggleable__control:checked~div.sk-toggleable__content {max-height: 200px;max-width: 100%;overflow: auto;}#sk-container-id-1 input.sk-toggleable__control:checked~label.sk-toggleable__label-arrow:before {content: \"▾\";}#sk-container-id-1 div.sk-estimator input.sk-toggleable__control:checked~label.sk-toggleable__label {background-color: #d4ebff;}#sk-container-id-1 div.sk-label input.sk-toggleable__control:checked~label.sk-toggleable__label {background-color: #d4ebff;}#sk-container-id-1 input.sk-hidden--visually {border: 0;clip: rect(1px 1px 1px 1px);clip: rect(1px, 1px, 1px, 1px);height: 1px;margin: -1px;overflow: hidden;padding: 0;position: absolute;width: 1px;}#sk-container-id-1 div.sk-estimator {font-family: monospace;background-color: #f0f8ff;border: 1px dotted black;border-radius: 0.25em;box-sizing: border-box;margin-bottom: 0.5em;}#sk-container-id-1 div.sk-estimator:hover {background-color: #d4ebff;}#sk-container-id-1 div.sk-parallel-item::after {content: \"\";width: 100%;border-bottom: 1px solid gray;flex-grow: 1;}#sk-container-id-1 div.sk-label:hover label.sk-toggleable__label {background-color: #d4ebff;}#sk-container-id-1 div.sk-serial::before {content: \"\";position: absolute;border-left: 1px solid gray;box-sizing: border-box;top: 0;bottom: 0;left: 50%;z-index: 0;}#sk-container-id-1 div.sk-serial {display: flex;flex-direction: column;align-items: center;background-color: white;padding-right: 0.2em;padding-left: 0.2em;position: relative;}#sk-container-id-1 div.sk-item {position: relative;z-index: 1;}#sk-container-id-1 div.sk-parallel {display: flex;align-items: stretch;justify-content: center;background-color: white;position: relative;}#sk-container-id-1 div.sk-item::before, #sk-container-id-1 div.sk-parallel-item::before {content: \"\";position: absolute;border-left: 1px solid gray;box-sizing: border-box;top: 0;bottom: 0;left: 50%;z-index: -1;}#sk-container-id-1 div.sk-parallel-item {display: flex;flex-direction: column;z-index: 1;position: relative;background-color: white;}#sk-container-id-1 div.sk-parallel-item:first-child::after {align-self: flex-end;width: 50%;}#sk-container-id-1 div.sk-parallel-item:last-child::after {align-self: flex-start;width: 50%;}#sk-container-id-1 div.sk-parallel-item:only-child::after {width: 0;}#sk-container-id-1 div.sk-dashed-wrapped {border: 1px dashed gray;margin: 0 0.4em 0.5em 0.4em;box-sizing: border-box;padding-bottom: 0.4em;background-color: white;}#sk-container-id-1 div.sk-label label {font-family: monospace;font-weight: bold;display: inline-block;line-height: 1.2em;}#sk-container-id-1 div.sk-label-container {text-align: center;}#sk-container-id-1 div.sk-container {/* jupyter's `normalize.less` sets `[hidden] { display: none; }` but bootstrap.min.css set `[hidden] { display: none !important; }` so we also need the `!important` here to be able to override the default hidden behavior on the sphinx rendered scikit-learn.org. See: https://github.com/scikit-learn/scikit-learn/issues/21755 */display: inline-block !important;position: relative;}#sk-container-id-1 div.sk-text-repr-fallback {display: none;}</style><div id=\"sk-container-id-1\" class=\"sk-top-container\"><div class=\"sk-text-repr-fallback\"><pre>MultiOutputRegressor(estimator=LinearRegression())</pre><b>In a Jupyter environment, please rerun this cell to show the HTML representation or trust the notebook. <br />On GitHub, the HTML representation is unable to render, please try loading this page with nbviewer.org.</b></div><div class=\"sk-container\" hidden><div class=\"sk-item sk-dashed-wrapped\"><div class=\"sk-label-container\"><div class=\"sk-label sk-toggleable\"><input class=\"sk-toggleable__control sk-hidden--visually\" id=\"sk-estimator-id-1\" type=\"checkbox\" ><label for=\"sk-estimator-id-1\" class=\"sk-toggleable__label sk-toggleable__label-arrow\">MultiOutputRegressor</label><div class=\"sk-toggleable__content\"><pre>MultiOutputRegressor(estimator=LinearRegression())</pre></div></div></div><div class=\"sk-parallel\"><div class=\"sk-parallel-item\"><div class=\"sk-item\"><div class=\"sk-label-container\"><div class=\"sk-label sk-toggleable\"><input class=\"sk-toggleable__control sk-hidden--visually\" id=\"sk-estimator-id-2\" type=\"checkbox\" ><label for=\"sk-estimator-id-2\" class=\"sk-toggleable__label sk-toggleable__label-arrow\">estimator: LinearRegression</label><div class=\"sk-toggleable__content\"><pre>LinearRegression()</pre></div></div></div><div class=\"sk-serial\"><div class=\"sk-item\"><div class=\"sk-estimator sk-toggleable\"><input class=\"sk-toggleable__control sk-hidden--visually\" id=\"sk-estimator-id-3\" type=\"checkbox\" ><label for=\"sk-estimator-id-3\" class=\"sk-toggleable__label sk-toggleable__label-arrow\">LinearRegression</label><div class=\"sk-toggleable__content\"><pre>LinearRegression()</pre></div></div></div></div></div></div></div></div></div></div>"
     },
     "execution_count": 24,
     "metadata": {},
     "output_type": "execute_result"
    }
   ],
   "source": [
    "# Train the model\n",
    "model.fit(X_train, y_train)"
   ],
   "metadata": {
    "collapsed": false,
    "ExecuteTime": {
     "end_time": "2024-01-06T12:59:39.610375700Z",
     "start_time": "2024-01-06T12:59:36.959038Z"
    }
   },
   "id": "c00a9d2f4e199590"
  },
  {
   "cell_type": "code",
   "execution_count": 25,
   "outputs": [],
   "source": [
    "# Make predictions on the test set\n",
    "predictions = model.predict(X_test)"
   ],
   "metadata": {
    "collapsed": false,
    "ExecuteTime": {
     "end_time": "2024-01-06T12:59:44.559517600Z",
     "start_time": "2024-01-06T12:59:44.520420800Z"
    }
   },
   "id": "ad234a4b6daa63d8"
  },
  {
   "cell_type": "code",
   "execution_count": 27,
   "outputs": [
    {
     "data": {
      "text/plain": "array([[560.32752057, 559.46420021],\n       [287.89165545, 498.65028908],\n       [378.85096776, 402.26807957],\n       ...,\n       [251.22187838, 417.07586922],\n       [416.32064426, 278.40542997],\n       [433.25832807, 366.67428877]])"
     },
     "execution_count": 27,
     "metadata": {},
     "output_type": "execute_result"
    }
   ],
   "source": [
    "predictions"
   ],
   "metadata": {
    "collapsed": false,
    "ExecuteTime": {
     "end_time": "2024-01-06T13:00:59.312779400Z",
     "start_time": "2024-01-06T13:00:59.303806500Z"
    }
   },
   "id": "8683c03f546ea4ff"
  },
  {
   "cell_type": "code",
   "execution_count": 26,
   "outputs": [
    {
     "name": "stdout",
     "output_type": "stream",
     "text": [
      "Mean Squared Error: 217.75601535160428\n"
     ]
    }
   ],
   "source": [
    "# Evaluate the performance\n",
    "mse = mean_squared_error(y_test, predictions)\n",
    "print(f'Mean Squared Error: {mse}')"
   ],
   "metadata": {
    "collapsed": false,
    "ExecuteTime": {
     "end_time": "2024-01-06T12:59:46.918713300Z",
     "start_time": "2024-01-06T12:59:46.906992200Z"
    }
   },
   "id": "ac0a5a499070a0f4"
  },
  {
   "cell_type": "markdown",
   "source": [
    "# Evaluation"
   ],
   "metadata": {
    "collapsed": false
   },
   "id": "e865aeb7ff9a5f58"
  },
  {
   "cell_type": "code",
   "execution_count": 37,
   "outputs": [],
   "source": [
    "# Read the evaluation data\n",
    "eval_dataset = pd.read_csv('dataset/evaluation.csv')  # Adjust the file path as needed"
   ],
   "metadata": {
    "collapsed": false,
    "ExecuteTime": {
     "end_time": "2024-01-06T13:17:22.474415500Z",
     "start_time": "2024-01-06T13:17:21.042263Z"
    }
   },
   "id": "8b171abdcc2a1500"
  },
  {
   "cell_type": "code",
   "execution_count": 38,
   "outputs": [
    {
     "data": {
      "text/plain": "   Id   pmax[0]  negpmax[0]   area[0]     tmax[0]    rms[0]    pmax[1]  \\\n0   0  4.400616   -4.257770  2.860212  176.600000  1.562814   8.738040   \n1   1  5.599571   -2.974570  9.400537   90.677386  1.129626  23.460358   \n2   2  3.731995   -5.662292  1.930957  155.200000  0.921757   4.837952   \n3   3  5.657729   -4.600342  5.593030   30.463179  1.269390  87.293692   \n4   4  3.716666   -4.583796  1.946927   33.600000  1.082743   9.593125   \n\n   negpmax[1]    area[1]    tmax[1]  ...    pmax[16]  negpmax[16]    area[16]  \\\n0   -3.598874   5.554105  70.800000  ...  614.621212   -42.232574  583.237137   \n1  -20.616669  17.998419  72.800000  ...  520.333440   -36.986118  550.540448   \n2   -7.224267   3.289124  67.057395  ...  607.642389   -46.680069  582.825835   \n3  -45.786813  38.422989  71.800000  ...  596.094911   -48.241263  577.835129   \n4   -5.374179   7.767408  72.414459  ...  620.793628   -37.618567  599.834735   \n\n    tmax[16]   rms[16]    pmax[17]  negpmax[17]    area[17]   tmax[17]  \\\n0  70.693530  0.861022  608.931417   -42.728827  568.019556  70.755552   \n1  72.781390  0.259205  613.671695   -44.449564  586.292097  72.900695   \n2  71.407320  0.552691  608.996069   -45.877765  589.520958  71.406020   \n3  72.011986  0.361220  612.500144   -49.572583  583.795426  72.066338   \n4  72.251813  0.390639  621.557649   -45.189832  600.988676  72.151243   \n\n    rms[17]  \n0  0.328075  \n1  0.401326  \n2  0.343592  \n3  0.429650  \n4  0.358549  \n\n[5 rows x 91 columns]",
      "text/html": "<div>\n<style scoped>\n    .dataframe tbody tr th:only-of-type {\n        vertical-align: middle;\n    }\n\n    .dataframe tbody tr th {\n        vertical-align: top;\n    }\n\n    .dataframe thead th {\n        text-align: right;\n    }\n</style>\n<table border=\"1\" class=\"dataframe\">\n  <thead>\n    <tr style=\"text-align: right;\">\n      <th></th>\n      <th>Id</th>\n      <th>pmax[0]</th>\n      <th>negpmax[0]</th>\n      <th>area[0]</th>\n      <th>tmax[0]</th>\n      <th>rms[0]</th>\n      <th>pmax[1]</th>\n      <th>negpmax[1]</th>\n      <th>area[1]</th>\n      <th>tmax[1]</th>\n      <th>...</th>\n      <th>pmax[16]</th>\n      <th>negpmax[16]</th>\n      <th>area[16]</th>\n      <th>tmax[16]</th>\n      <th>rms[16]</th>\n      <th>pmax[17]</th>\n      <th>negpmax[17]</th>\n      <th>area[17]</th>\n      <th>tmax[17]</th>\n      <th>rms[17]</th>\n    </tr>\n  </thead>\n  <tbody>\n    <tr>\n      <th>0</th>\n      <td>0</td>\n      <td>4.400616</td>\n      <td>-4.257770</td>\n      <td>2.860212</td>\n      <td>176.600000</td>\n      <td>1.562814</td>\n      <td>8.738040</td>\n      <td>-3.598874</td>\n      <td>5.554105</td>\n      <td>70.800000</td>\n      <td>...</td>\n      <td>614.621212</td>\n      <td>-42.232574</td>\n      <td>583.237137</td>\n      <td>70.693530</td>\n      <td>0.861022</td>\n      <td>608.931417</td>\n      <td>-42.728827</td>\n      <td>568.019556</td>\n      <td>70.755552</td>\n      <td>0.328075</td>\n    </tr>\n    <tr>\n      <th>1</th>\n      <td>1</td>\n      <td>5.599571</td>\n      <td>-2.974570</td>\n      <td>9.400537</td>\n      <td>90.677386</td>\n      <td>1.129626</td>\n      <td>23.460358</td>\n      <td>-20.616669</td>\n      <td>17.998419</td>\n      <td>72.800000</td>\n      <td>...</td>\n      <td>520.333440</td>\n      <td>-36.986118</td>\n      <td>550.540448</td>\n      <td>72.781390</td>\n      <td>0.259205</td>\n      <td>613.671695</td>\n      <td>-44.449564</td>\n      <td>586.292097</td>\n      <td>72.900695</td>\n      <td>0.401326</td>\n    </tr>\n    <tr>\n      <th>2</th>\n      <td>2</td>\n      <td>3.731995</td>\n      <td>-5.662292</td>\n      <td>1.930957</td>\n      <td>155.200000</td>\n      <td>0.921757</td>\n      <td>4.837952</td>\n      <td>-7.224267</td>\n      <td>3.289124</td>\n      <td>67.057395</td>\n      <td>...</td>\n      <td>607.642389</td>\n      <td>-46.680069</td>\n      <td>582.825835</td>\n      <td>71.407320</td>\n      <td>0.552691</td>\n      <td>608.996069</td>\n      <td>-45.877765</td>\n      <td>589.520958</td>\n      <td>71.406020</td>\n      <td>0.343592</td>\n    </tr>\n    <tr>\n      <th>3</th>\n      <td>3</td>\n      <td>5.657729</td>\n      <td>-4.600342</td>\n      <td>5.593030</td>\n      <td>30.463179</td>\n      <td>1.269390</td>\n      <td>87.293692</td>\n      <td>-45.786813</td>\n      <td>38.422989</td>\n      <td>71.800000</td>\n      <td>...</td>\n      <td>596.094911</td>\n      <td>-48.241263</td>\n      <td>577.835129</td>\n      <td>72.011986</td>\n      <td>0.361220</td>\n      <td>612.500144</td>\n      <td>-49.572583</td>\n      <td>583.795426</td>\n      <td>72.066338</td>\n      <td>0.429650</td>\n    </tr>\n    <tr>\n      <th>4</th>\n      <td>4</td>\n      <td>3.716666</td>\n      <td>-4.583796</td>\n      <td>1.946927</td>\n      <td>33.600000</td>\n      <td>1.082743</td>\n      <td>9.593125</td>\n      <td>-5.374179</td>\n      <td>7.767408</td>\n      <td>72.414459</td>\n      <td>...</td>\n      <td>620.793628</td>\n      <td>-37.618567</td>\n      <td>599.834735</td>\n      <td>72.251813</td>\n      <td>0.390639</td>\n      <td>621.557649</td>\n      <td>-45.189832</td>\n      <td>600.988676</td>\n      <td>72.151243</td>\n      <td>0.358549</td>\n    </tr>\n  </tbody>\n</table>\n<p>5 rows × 91 columns</p>\n</div>"
     },
     "execution_count": 38,
     "metadata": {},
     "output_type": "execute_result"
    }
   ],
   "source": [
    "eval_dataset.head()"
   ],
   "metadata": {
    "collapsed": false,
    "ExecuteTime": {
     "end_time": "2024-01-06T13:17:23.136371400Z",
     "start_time": "2024-01-06T13:17:23.116120500Z"
    }
   },
   "id": "d0dad964d6461306"
  },
  {
   "cell_type": "code",
   "execution_count": 39,
   "outputs": [],
   "source": [
    "#I need id to be used but I cannot fit it so I keep the ids or use copy of dataframe\n",
    "evaluation_dataset = eval_dataset.copy()\n",
    "evaluation_dataset = evaluation_dataset.drop(['Id'], axis=1)"
   ],
   "metadata": {
    "collapsed": false,
    "ExecuteTime": {
     "end_time": "2024-01-06T13:17:40.101364600Z",
     "start_time": "2024-01-06T13:17:40.044994Z"
    }
   },
   "id": "adb73e197d391295"
  },
  {
   "cell_type": "code",
   "execution_count": 40,
   "outputs": [],
   "source": [
    "# Make predictions on the evaluation data\n",
    "evaluation_predictions = model.predict(evaluation_dataset)"
   ],
   "metadata": {
    "collapsed": false,
    "ExecuteTime": {
     "end_time": "2024-01-06T13:17:45.450542900Z",
     "start_time": "2024-01-06T13:17:45.411787600Z"
    }
   },
   "id": "80e36717dd718433"
  },
  {
   "cell_type": "code",
   "execution_count": 41,
   "outputs": [],
   "source": [
    "# Format the predictions as strings in the desired format\n",
    "formatted_predictions = ['|'.join(map(str, pred)) for pred in evaluation_predictions]"
   ],
   "metadata": {
    "collapsed": false,
    "ExecuteTime": {
     "end_time": "2024-01-06T13:17:47.526577700Z",
     "start_time": "2024-01-06T13:17:47.366562900Z"
    }
   },
   "id": "fbe9ba254313f917"
  },
  {
   "cell_type": "code",
   "execution_count": 42,
   "outputs": [
    {
     "data": {
      "text/plain": "list"
     },
     "execution_count": 42,
     "metadata": {},
     "output_type": "execute_result"
    }
   ],
   "source": [
    "type(formatted_predictions)"
   ],
   "metadata": {
    "collapsed": false,
    "ExecuteTime": {
     "end_time": "2024-01-06T13:17:49.413532400Z",
     "start_time": "2024-01-06T13:17:49.390308900Z"
    }
   },
   "id": "fc3b4dcfa34e8a1b"
  },
  {
   "cell_type": "code",
   "execution_count": 43,
   "outputs": [],
   "source": [
    "# Create a new DataFrame with 'Id' and 'Predicted' columns\n",
    "evaluation_results = pd.DataFrame({'Id': eval_dataset['Id'], 'Predicted': formatted_predictions})"
   ],
   "metadata": {
    "collapsed": false,
    "ExecuteTime": {
     "end_time": "2024-01-06T13:17:56.200804200Z",
     "start_time": "2024-01-06T13:17:56.170109100Z"
    }
   },
   "id": "25006b7252bc585d"
  },
  {
   "cell_type": "code",
   "execution_count": 45,
   "outputs": [],
   "source": [
    "# Save the results to evaluation2.csv\n",
    "evaluation_results.to_csv('dataset/result.csv', index=False)"
   ],
   "metadata": {
    "collapsed": false,
    "ExecuteTime": {
     "end_time": "2024-01-06T13:19:19.503367100Z",
     "start_time": "2024-01-06T13:19:19.380502500Z"
    }
   },
   "id": "faaa9e41fe0d4267"
  }
 ],
 "metadata": {
  "kernelspec": {
   "display_name": "Python 3",
   "language": "python",
   "name": "python3"
  },
  "language_info": {
   "codemirror_mode": {
    "name": "ipython",
    "version": 2
   },
   "file_extension": ".py",
   "mimetype": "text/x-python",
   "name": "python",
   "nbconvert_exporter": "python",
   "pygments_lexer": "ipython2",
   "version": "2.7.6"
  }
 },
 "nbformat": 4,
 "nbformat_minor": 5
}
