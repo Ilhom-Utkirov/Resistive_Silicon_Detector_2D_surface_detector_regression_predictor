{
 "cells": [
  {
   "cell_type": "code",
   "execution_count": 28,
   "id": "initial_id",
   "metadata": {
    "collapsed": true,
    "ExecuteTime": {
     "end_time": "2024-01-24T23:10:36.856161800Z",
     "start_time": "2024-01-24T23:10:36.844137500Z"
    }
   },
   "outputs": [],
   "source": [
    "import pandas as pd\n",
    "import numpy as np\n",
    "from ydata_profiling import ProfileReport"
   ]
  },
  {
   "cell_type": "code",
   "execution_count": 29,
   "outputs": [],
   "source": [
    "from sklearn.model_selection import train_test_split\n",
    "from sklearn.linear_model import LinearRegression\n",
    "from sklearn.multioutput import MultiOutputRegressor\n",
    "from sklearn.metrics import mean_squared_error"
   ],
   "metadata": {
    "collapsed": false,
    "ExecuteTime": {
     "end_time": "2024-01-24T23:10:38.452030100Z",
     "start_time": "2024-01-24T23:10:38.442979Z"
    }
   },
   "id": "dd6ed7e5e5d93dba"
  },
  {
   "cell_type": "markdown",
   "source": [
    "read data"
   ],
   "metadata": {
    "collapsed": false
   },
   "id": "ab57296a57216ea7"
  },
  {
   "cell_type": "code",
   "execution_count": 40,
   "outputs": [
    {
     "name": "stdout",
     "output_type": "stream",
     "text": [
      "(385500, 68)\n",
      "Index(['Unnamed: 0', 'x', 'y', 'pmax[1]', 'negpmax[1]', 'area[1]', 'tmax[1]',\n",
      "       'rms[1]', 'pmax[2]', 'negpmax[2]', 'area[2]', 'tmax[2]', 'rms[2]',\n",
      "       'pmax[3]', 'negpmax[3]', 'area[3]', 'tmax[3]', 'rms[3]', 'pmax[4]',\n",
      "       'negpmax[4]', 'area[4]', 'tmax[4]', 'rms[4]', 'pmax[5]', 'negpmax[5]',\n",
      "       'area[5]', 'tmax[5]', 'rms[5]', 'pmax[6]', 'negpmax[6]', 'area[6]',\n",
      "       'tmax[6]', 'rms[6]', 'pmax[8]', 'negpmax[8]', 'area[8]', 'tmax[8]',\n",
      "       'rms[8]', 'pmax[9]', 'negpmax[9]', 'area[9]', 'tmax[9]', 'rms[9]',\n",
      "       'pmax[10]', 'negpmax[10]', 'area[10]', 'tmax[10]', 'rms[10]',\n",
      "       'pmax[11]', 'negpmax[11]', 'area[11]', 'tmax[11]', 'rms[11]',\n",
      "       'pmax[13]', 'negpmax[13]', 'area[13]', 'tmax[13]', 'rms[13]',\n",
      "       'pmax[14]', 'negpmax[14]', 'area[14]', 'tmax[14]', 'rms[14]',\n",
      "       'pmax[15]', 'negpmax[15]', 'area[15]', 'tmax[15]', 'rms[15]'],\n",
      "      dtype='object')\n"
     ]
    },
    {
     "data": {
      "text/plain": "   Unnamed: 0      x      y   pmax[1]  negpmax[1]   area[1]     tmax[1]  \\\n0           0  200.0  200.0  5.409161  -17.721210  4.538778   22.600000   \n1           1  200.0  200.0  4.414289   -4.736827  3.720435  111.875058   \n2           2  200.0  200.0  4.567191   -5.985437  3.490490  107.800000   \n3           3  200.0  200.0  5.019058   -4.229949  6.786200  175.600000   \n4           4  200.0  200.0  3.250262   -5.783587  2.449456  159.800000   \n\n     rms[1]   pmax[2]  negpmax[2]  ...   pmax[14]  negpmax[14]   area[14]  \\\n0  1.563902  6.084506  -19.892543  ...   6.611877   -17.685799   4.884680   \n1  1.228058  4.507257   -3.787175  ...  13.802252    -5.154840   8.758870   \n2  1.015408  5.384155   -3.948853  ...   5.940039    -3.860550   5.340140   \n3  1.350620  4.165598   -5.576041  ...   6.434910    -5.576315  15.789638   \n4  0.759515  4.736023   -5.137939  ...   4.483080    -5.361823   3.366542   \n\n     tmax[14]   rms[14]    pmax[15]  negpmax[15]    area[15]   tmax[15]  \\\n0  162.800000  1.284969  149.648736   -18.546884  146.036298  72.276594   \n1  120.000000  1.093953  148.942977    -4.697864  171.081604  71.065221   \n2    6.614830  1.183951  153.494632    -4.584915  137.502422  71.869933   \n3   72.195420  1.738998  151.859889    -4.744748  135.724871  72.262946   \n4  160.185705  1.323621  137.139115    -5.357361  147.372754  71.212440   \n\n    rms[15]  \n0  1.196239  \n1  1.534433  \n2  1.010175  \n3  1.283015  \n4  1.480449  \n\n[5 rows x 68 columns]",
      "text/html": "<div>\n<style scoped>\n    .dataframe tbody tr th:only-of-type {\n        vertical-align: middle;\n    }\n\n    .dataframe tbody tr th {\n        vertical-align: top;\n    }\n\n    .dataframe thead th {\n        text-align: right;\n    }\n</style>\n<table border=\"1\" class=\"dataframe\">\n  <thead>\n    <tr style=\"text-align: right;\">\n      <th></th>\n      <th>Unnamed: 0</th>\n      <th>x</th>\n      <th>y</th>\n      <th>pmax[1]</th>\n      <th>negpmax[1]</th>\n      <th>area[1]</th>\n      <th>tmax[1]</th>\n      <th>rms[1]</th>\n      <th>pmax[2]</th>\n      <th>negpmax[2]</th>\n      <th>...</th>\n      <th>pmax[14]</th>\n      <th>negpmax[14]</th>\n      <th>area[14]</th>\n      <th>tmax[14]</th>\n      <th>rms[14]</th>\n      <th>pmax[15]</th>\n      <th>negpmax[15]</th>\n      <th>area[15]</th>\n      <th>tmax[15]</th>\n      <th>rms[15]</th>\n    </tr>\n  </thead>\n  <tbody>\n    <tr>\n      <th>0</th>\n      <td>0</td>\n      <td>200.0</td>\n      <td>200.0</td>\n      <td>5.409161</td>\n      <td>-17.721210</td>\n      <td>4.538778</td>\n      <td>22.600000</td>\n      <td>1.563902</td>\n      <td>6.084506</td>\n      <td>-19.892543</td>\n      <td>...</td>\n      <td>6.611877</td>\n      <td>-17.685799</td>\n      <td>4.884680</td>\n      <td>162.800000</td>\n      <td>1.284969</td>\n      <td>149.648736</td>\n      <td>-18.546884</td>\n      <td>146.036298</td>\n      <td>72.276594</td>\n      <td>1.196239</td>\n    </tr>\n    <tr>\n      <th>1</th>\n      <td>1</td>\n      <td>200.0</td>\n      <td>200.0</td>\n      <td>4.414289</td>\n      <td>-4.736827</td>\n      <td>3.720435</td>\n      <td>111.875058</td>\n      <td>1.228058</td>\n      <td>4.507257</td>\n      <td>-3.787175</td>\n      <td>...</td>\n      <td>13.802252</td>\n      <td>-5.154840</td>\n      <td>8.758870</td>\n      <td>120.000000</td>\n      <td>1.093953</td>\n      <td>148.942977</td>\n      <td>-4.697864</td>\n      <td>171.081604</td>\n      <td>71.065221</td>\n      <td>1.534433</td>\n    </tr>\n    <tr>\n      <th>2</th>\n      <td>2</td>\n      <td>200.0</td>\n      <td>200.0</td>\n      <td>4.567191</td>\n      <td>-5.985437</td>\n      <td>3.490490</td>\n      <td>107.800000</td>\n      <td>1.015408</td>\n      <td>5.384155</td>\n      <td>-3.948853</td>\n      <td>...</td>\n      <td>5.940039</td>\n      <td>-3.860550</td>\n      <td>5.340140</td>\n      <td>6.614830</td>\n      <td>1.183951</td>\n      <td>153.494632</td>\n      <td>-4.584915</td>\n      <td>137.502422</td>\n      <td>71.869933</td>\n      <td>1.010175</td>\n    </tr>\n    <tr>\n      <th>3</th>\n      <td>3</td>\n      <td>200.0</td>\n      <td>200.0</td>\n      <td>5.019058</td>\n      <td>-4.229949</td>\n      <td>6.786200</td>\n      <td>175.600000</td>\n      <td>1.350620</td>\n      <td>4.165598</td>\n      <td>-5.576041</td>\n      <td>...</td>\n      <td>6.434910</td>\n      <td>-5.576315</td>\n      <td>15.789638</td>\n      <td>72.195420</td>\n      <td>1.738998</td>\n      <td>151.859889</td>\n      <td>-4.744748</td>\n      <td>135.724871</td>\n      <td>72.262946</td>\n      <td>1.283015</td>\n    </tr>\n    <tr>\n      <th>4</th>\n      <td>4</td>\n      <td>200.0</td>\n      <td>200.0</td>\n      <td>3.250262</td>\n      <td>-5.783587</td>\n      <td>2.449456</td>\n      <td>159.800000</td>\n      <td>0.759515</td>\n      <td>4.736023</td>\n      <td>-5.137939</td>\n      <td>...</td>\n      <td>4.483080</td>\n      <td>-5.361823</td>\n      <td>3.366542</td>\n      <td>160.185705</td>\n      <td>1.323621</td>\n      <td>137.139115</td>\n      <td>-5.357361</td>\n      <td>147.372754</td>\n      <td>71.212440</td>\n      <td>1.480449</td>\n    </tr>\n  </tbody>\n</table>\n<p>5 rows × 68 columns</p>\n</div>"
     },
     "execution_count": 40,
     "metadata": {},
     "output_type": "execute_result"
    }
   ],
   "source": [
    "# dataframe = pd.read_csv('dataset/development.csv')\n",
    "dataframe = pd.read_csv('dataset/2_development.csv')\n",
    "print(dataframe.shape)\n",
    "print(dataframe.columns)\n",
    "dataframe.head()"
   ],
   "metadata": {
    "collapsed": false,
    "ExecuteTime": {
     "end_time": "2024-01-24T23:12:36.772021700Z",
     "start_time": "2024-01-24T23:12:33.785938100Z"
    }
   },
   "id": "119d57c203cff812"
  },
  {
   "cell_type": "code",
   "execution_count": null,
   "outputs": [],
   "source": [],
   "metadata": {
    "collapsed": false
   },
   "id": "c5f20c2c9cd63d"
  },
  {
   "cell_type": "markdown",
   "source": [
    "# prepare for test and split"
   ],
   "metadata": {
    "collapsed": false
   },
   "id": "935d53d758ec9c1b"
  },
  {
   "cell_type": "code",
   "execution_count": 41,
   "outputs": [],
   "source": [
    "# Combine 'x' and 'y' into a new 'target' column\n",
    "dataframe = dataframe.assign(target=list(zip(dataframe['x'], dataframe['y'])))\n",
    "# Drop the original 'x' and 'y' columns if needed\n",
    "dataframe = dataframe.drop(['x', 'y'], axis=1)\n",
    "# Convert 'target' to a 2D array\n",
    "y = pd.DataFrame(dataframe['target'].tolist(), columns=['x', 'y'])\n"
   ],
   "metadata": {
    "collapsed": false,
    "ExecuteTime": {
     "end_time": "2024-01-24T23:12:39.588149100Z",
     "start_time": "2024-01-24T23:12:39.323745600Z"
    }
   },
   "id": "2182604fa3506ee0"
  },
  {
   "cell_type": "code",
   "execution_count": 42,
   "outputs": [
    {
     "data": {
      "text/plain": "0    (200.0, 200.0)\n1    (200.0, 200.0)\n2    (200.0, 200.0)\n3    (200.0, 200.0)\n4    (200.0, 200.0)\nName: target, dtype: object"
     },
     "execution_count": 42,
     "metadata": {},
     "output_type": "execute_result"
    }
   ],
   "source": [
    "dataframe['target'].head()"
   ],
   "metadata": {
    "collapsed": false,
    "ExecuteTime": {
     "end_time": "2024-01-24T23:12:41.170040400Z",
     "start_time": "2024-01-24T23:12:41.142149700Z"
    }
   },
   "id": "5f4fb0db6ab77da2"
  },
  {
   "cell_type": "code",
   "execution_count": 43,
   "outputs": [
    {
     "data": {
      "text/plain": "((308400, 66), (77100, 66))"
     },
     "execution_count": 43,
     "metadata": {},
     "output_type": "execute_result"
    }
   ],
   "source": [
    "#divide development to test ad train\n",
    "X_train, X_test, y_train, y_test = train_test_split(\n",
    "    dataframe.drop(labels=['target'], axis=1),  # drop the target\n",
    "    y,  # just the target\n",
    "    test_size=0.2,\n",
    "    random_state=0)\n",
    "\n",
    "X_train.shape, X_test.shape\n"
   ],
   "metadata": {
    "collapsed": false,
    "ExecuteTime": {
     "end_time": "2024-01-24T23:12:43.171656Z",
     "start_time": "2024-01-24T23:12:42.975883400Z"
    }
   },
   "id": "f4627bc4aa4ae0f6"
  },
  {
   "cell_type": "code",
   "execution_count": 47,
   "outputs": [],
   "source": [
    "from sklearn.ensemble import GradientBoostingRegressor\n",
    "\n",
    "# Create a multi-output regression pipeline with a linear regression model\n",
    "model = MultiOutputRegressor(GradientBoostingRegressor(verbose=True))"
   ],
   "metadata": {
    "collapsed": false,
    "ExecuteTime": {
     "end_time": "2024-01-24T23:13:13.888602Z",
     "start_time": "2024-01-24T23:13:13.869643600Z"
    }
   },
   "id": "1c6f1890b6c908c7"
  },
  {
   "cell_type": "code",
   "execution_count": null,
   "outputs": [
    {
     "name": "stdout",
     "output_type": "stream",
     "text": [
      "      Iter       Train Loss   Remaining Time \n",
      "         1       11813.8603           28.29m\n",
      "         2        9603.6806           27.89m\n",
      "         3        7807.3196           27.45m\n",
      "         4        6348.8217           27.16m\n",
      "         5        5163.9073           26.87m\n",
      "         6        4197.7698           26.53m\n",
      "         7        3413.1155           26.27m\n",
      "         8        2776.0509           25.99m\n",
      "         9        2258.3527           25.69m\n",
      "        10        1836.6007           25.40m\n",
      "        20         234.5293           22.57m\n",
      "        30          30.3623           19.75m\n"
     ]
    }
   ],
   "source": [
    "# Train the model\n",
    "model.fit(X_train, y_train)"
   ],
   "metadata": {
    "collapsed": false,
    "is_executing": true,
    "ExecuteTime": {
     "start_time": "2024-01-24T23:13:17.637922700Z"
    }
   },
   "id": "c00a9d2f4e199590"
  },
  {
   "cell_type": "code",
   "execution_count": 14,
   "outputs": [],
   "source": [
    "# Make predictions on the test set\n",
    "predictions = model.predict(X_test)"
   ],
   "metadata": {
    "collapsed": false,
    "ExecuteTime": {
     "end_time": "2024-01-24T21:38:47.959939800Z",
     "start_time": "2024-01-24T21:38:47.919073900Z"
    }
   },
   "id": "ad234a4b6daa63d8"
  },
  {
   "cell_type": "code",
   "execution_count": 15,
   "outputs": [
    {
     "data": {
      "text/plain": "array([[560.32752057, 559.46420021],\n       [287.89165545, 498.65028908],\n       [378.85096776, 402.26807957],\n       ...,\n       [251.22187838, 417.07586922],\n       [416.32064426, 278.40542997],\n       [433.25832807, 366.67428877]])"
     },
     "execution_count": 15,
     "metadata": {},
     "output_type": "execute_result"
    }
   ],
   "source": [
    "predictions"
   ],
   "metadata": {
    "collapsed": false,
    "ExecuteTime": {
     "end_time": "2024-01-24T21:38:49.068837900Z",
     "start_time": "2024-01-24T21:38:49.054884800Z"
    }
   },
   "id": "8683c03f546ea4ff"
  },
  {
   "cell_type": "code",
   "execution_count": 16,
   "outputs": [
    {
     "name": "stdout",
     "output_type": "stream",
     "text": [
      "Mean Squared Error: 217.75601535160428\n"
     ]
    }
   ],
   "source": [
    "# Evaluate the performance\n",
    "mse = mean_squared_error(y_test, predictions)\n",
    "print(f'Mean Squared Error: {mse}')"
   ],
   "metadata": {
    "collapsed": false,
    "ExecuteTime": {
     "end_time": "2024-01-24T21:38:52.478471500Z",
     "start_time": "2024-01-24T21:38:52.461538Z"
    }
   },
   "id": "ac0a5a499070a0f4"
  },
  {
   "cell_type": "code",
   "execution_count": 18,
   "outputs": [
    {
     "ename": "MemoryError",
     "evalue": "Unable to allocate 44.3 GiB for an array with shape (77100, 77100) and data type float64",
     "output_type": "error",
     "traceback": [
      "\u001B[1;31m---------------------------------------------------------------------------\u001B[0m",
      "\u001B[1;31mMemoryError\u001B[0m                               Traceback (most recent call last)",
      "Cell \u001B[1;32mIn[18], line 4\u001B[0m\n\u001B[0;32m      1\u001B[0m \u001B[38;5;28;01mfrom\u001B[39;00m \u001B[38;5;21;01msklearn\u001B[39;00m\u001B[38;5;21;01m.\u001B[39;00m\u001B[38;5;21;01mmetrics\u001B[39;00m\u001B[38;5;21;01m.\u001B[39;00m\u001B[38;5;21;01mpairwise\u001B[39;00m \u001B[38;5;28;01mimport\u001B[39;00m euclidean_distances\n\u001B[0;32m      3\u001B[0m \u001B[38;5;66;03m# Calculate Euclidean distance\u001B[39;00m\n\u001B[1;32m----> 4\u001B[0m euclidean_dist \u001B[38;5;241m=\u001B[39m \u001B[43meuclidean_distances\u001B[49m\u001B[43m(\u001B[49m\u001B[43my_test\u001B[49m\u001B[38;5;241;43m.\u001B[39;49m\u001B[43mvalues\u001B[49m\u001B[43m,\u001B[49m\u001B[43m \u001B[49m\u001B[43mpredictions\u001B[49m\u001B[43m)\u001B[49m\n\u001B[0;32m      5\u001B[0m \u001B[38;5;66;03m# Convert predictions and residuals to DataFrames for analysis\u001B[39;00m\n\u001B[0;32m      6\u001B[0m predictions_df \u001B[38;5;241m=\u001B[39m pd\u001B[38;5;241m.\u001B[39mDataFrame(predictions, columns\u001B[38;5;241m=\u001B[39m[\u001B[38;5;124m'\u001B[39m\u001B[38;5;124mx\u001B[39m\u001B[38;5;124m'\u001B[39m, \u001B[38;5;124m'\u001B[39m\u001B[38;5;124my\u001B[39m\u001B[38;5;124m'\u001B[39m])\n",
      "File \u001B[1;32mC:\\mine\\Sinaptica\\flask_project\\dsl\\Resistive_Silicon_Detector_2D_surface_detector_regression_predictor\\.venv\\lib\\site-packages\\sklearn\\metrics\\pairwise.py:338\u001B[0m, in \u001B[0;36meuclidean_distances\u001B[1;34m(X, Y, Y_norm_squared, squared, X_norm_squared)\u001B[0m\n\u001B[0;32m    332\u001B[0m     \u001B[38;5;28;01mif\u001B[39;00m Y_norm_squared\u001B[38;5;241m.\u001B[39mshape \u001B[38;5;241m!=\u001B[39m (\u001B[38;5;241m1\u001B[39m, Y\u001B[38;5;241m.\u001B[39mshape[\u001B[38;5;241m0\u001B[39m]):\n\u001B[0;32m    333\u001B[0m         \u001B[38;5;28;01mraise\u001B[39;00m \u001B[38;5;167;01mValueError\u001B[39;00m(\n\u001B[0;32m    334\u001B[0m             \u001B[38;5;124mf\u001B[39m\u001B[38;5;124m\"\u001B[39m\u001B[38;5;124mIncompatible dimensions for Y of shape \u001B[39m\u001B[38;5;132;01m{\u001B[39;00mY\u001B[38;5;241m.\u001B[39mshape\u001B[38;5;132;01m}\u001B[39;00m\u001B[38;5;124m and \u001B[39m\u001B[38;5;124m\"\u001B[39m\n\u001B[0;32m    335\u001B[0m             \u001B[38;5;124mf\u001B[39m\u001B[38;5;124m\"\u001B[39m\u001B[38;5;124mY_norm_squared of shape \u001B[39m\u001B[38;5;132;01m{\u001B[39;00moriginal_shape\u001B[38;5;132;01m}\u001B[39;00m\u001B[38;5;124m.\u001B[39m\u001B[38;5;124m\"\u001B[39m\n\u001B[0;32m    336\u001B[0m         )\n\u001B[1;32m--> 338\u001B[0m \u001B[38;5;28;01mreturn\u001B[39;00m \u001B[43m_euclidean_distances\u001B[49m\u001B[43m(\u001B[49m\u001B[43mX\u001B[49m\u001B[43m,\u001B[49m\u001B[43m \u001B[49m\u001B[43mY\u001B[49m\u001B[43m,\u001B[49m\u001B[43m \u001B[49m\u001B[43mX_norm_squared\u001B[49m\u001B[43m,\u001B[49m\u001B[43m \u001B[49m\u001B[43mY_norm_squared\u001B[49m\u001B[43m,\u001B[49m\u001B[43m \u001B[49m\u001B[43msquared\u001B[49m\u001B[43m)\u001B[49m\n",
      "File \u001B[1;32mC:\\mine\\Sinaptica\\flask_project\\dsl\\Resistive_Silicon_Detector_2D_surface_detector_regression_predictor\\.venv\\lib\\site-packages\\sklearn\\metrics\\pairwise.py:379\u001B[0m, in \u001B[0;36m_euclidean_distances\u001B[1;34m(X, Y, X_norm_squared, Y_norm_squared, squared)\u001B[0m\n\u001B[0;32m    376\u001B[0m     distances \u001B[38;5;241m=\u001B[39m _euclidean_distances_upcast(X, XX, Y, YY)\n\u001B[0;32m    377\u001B[0m \u001B[38;5;28;01melse\u001B[39;00m:\n\u001B[0;32m    378\u001B[0m     \u001B[38;5;66;03m# if dtype is already float64, no need to chunk and upcast\u001B[39;00m\n\u001B[1;32m--> 379\u001B[0m     distances \u001B[38;5;241m=\u001B[39m \u001B[38;5;241m-\u001B[39m\u001B[38;5;241m2\u001B[39m \u001B[38;5;241m*\u001B[39m \u001B[43msafe_sparse_dot\u001B[49m\u001B[43m(\u001B[49m\u001B[43mX\u001B[49m\u001B[43m,\u001B[49m\u001B[43m \u001B[49m\u001B[43mY\u001B[49m\u001B[38;5;241;43m.\u001B[39;49m\u001B[43mT\u001B[49m\u001B[43m,\u001B[49m\u001B[43m \u001B[49m\u001B[43mdense_output\u001B[49m\u001B[38;5;241;43m=\u001B[39;49m\u001B[38;5;28;43;01mTrue\u001B[39;49;00m\u001B[43m)\u001B[49m\n\u001B[0;32m    380\u001B[0m     distances \u001B[38;5;241m+\u001B[39m\u001B[38;5;241m=\u001B[39m XX\n\u001B[0;32m    381\u001B[0m     distances \u001B[38;5;241m+\u001B[39m\u001B[38;5;241m=\u001B[39m YY\n",
      "File \u001B[1;32mC:\\mine\\Sinaptica\\flask_project\\dsl\\Resistive_Silicon_Detector_2D_surface_detector_regression_predictor\\.venv\\lib\\site-packages\\sklearn\\utils\\extmath.py:192\u001B[0m, in \u001B[0;36msafe_sparse_dot\u001B[1;34m(a, b, dense_output)\u001B[0m\n\u001B[0;32m    190\u001B[0m         ret \u001B[38;5;241m=\u001B[39m np\u001B[38;5;241m.\u001B[39mdot(a, b)\n\u001B[0;32m    191\u001B[0m \u001B[38;5;28;01melse\u001B[39;00m:\n\u001B[1;32m--> 192\u001B[0m     ret \u001B[38;5;241m=\u001B[39m \u001B[43ma\u001B[49m\u001B[43m \u001B[49m\u001B[38;5;241;43m@\u001B[39;49m\u001B[43m \u001B[49m\u001B[43mb\u001B[49m\n\u001B[0;32m    194\u001B[0m \u001B[38;5;28;01mif\u001B[39;00m (\n\u001B[0;32m    195\u001B[0m     sparse\u001B[38;5;241m.\u001B[39missparse(a)\n\u001B[0;32m    196\u001B[0m     \u001B[38;5;129;01mand\u001B[39;00m sparse\u001B[38;5;241m.\u001B[39missparse(b)\n\u001B[0;32m    197\u001B[0m     \u001B[38;5;129;01mand\u001B[39;00m dense_output\n\u001B[0;32m    198\u001B[0m     \u001B[38;5;129;01mand\u001B[39;00m \u001B[38;5;28mhasattr\u001B[39m(ret, \u001B[38;5;124m\"\u001B[39m\u001B[38;5;124mtoarray\u001B[39m\u001B[38;5;124m\"\u001B[39m)\n\u001B[0;32m    199\u001B[0m ):\n\u001B[0;32m    200\u001B[0m     \u001B[38;5;28;01mreturn\u001B[39;00m ret\u001B[38;5;241m.\u001B[39mtoarray()\n",
      "\u001B[1;31mMemoryError\u001B[0m: Unable to allocate 44.3 GiB for an array with shape (77100, 77100) and data type float64"
     ]
    }
   ],
   "source": [
    "from sklearn.metrics.pairwise import euclidean_distances\n",
    "\n",
    "# Calculate Euclidean distance\n",
    "euclidean_dist = euclidean_distances(y_test.values, predictions)\n",
    "# Convert predictions and residuals to DataFrames for analysis\n",
    "predictions_df = pd.DataFrame(predictions, columns=['x', 'y'])\n",
    "residuals_df = pd.DataFrame(euclidean_dist, columns=['Euclidean_Distance'])\n",
    "\n",
    "# Concatenate predictions and residuals with the test set for analysis\n",
    "results_df = pd.concat([y_test.reset_index(drop=True), predictions_df, residuals_df], axis=1)\n",
    "\n",
    "# Print the first few rows of the results DataFrame\n",
    "print(results_df.head())"
   ],
   "metadata": {
    "collapsed": false,
    "ExecuteTime": {
     "end_time": "2024-01-24T21:47:08.646470900Z",
     "start_time": "2024-01-24T21:47:08.594654500Z"
    }
   },
   "id": "7b128091278277ee"
  },
  {
   "cell_type": "code",
   "execution_count": 22,
   "outputs": [
    {
     "ename": "ValueError",
     "evalue": "all the input array dimensions except for the concatenation axis must match exactly, but along dimension 1, the array at index 0 has size 1000 and the array at index 77 has size 100",
     "output_type": "error",
     "traceback": [
      "\u001B[1;31m---------------------------------------------------------------------------\u001B[0m",
      "\u001B[1;31mValueError\u001B[0m                                Traceback (most recent call last)",
      "Cell \u001B[1;32mIn[22], line 23\u001B[0m\n\u001B[0;32m     20\u001B[0m     euclidean_dist_batches\u001B[38;5;241m.\u001B[39mappend(euclidean_dist_batch)\n\u001B[0;32m     22\u001B[0m \u001B[38;5;66;03m# Concatenate the batch results along the first axis\u001B[39;00m\n\u001B[1;32m---> 23\u001B[0m euclidean_dist \u001B[38;5;241m=\u001B[39m \u001B[43mnp\u001B[49m\u001B[38;5;241;43m.\u001B[39;49m\u001B[43mconcatenate\u001B[49m\u001B[43m(\u001B[49m\u001B[43meuclidean_dist_batches\u001B[49m\u001B[43m,\u001B[49m\u001B[43m \u001B[49m\u001B[43maxis\u001B[49m\u001B[38;5;241;43m=\u001B[39;49m\u001B[38;5;241;43m0\u001B[39;49m\u001B[43m)\u001B[49m  \u001B[38;5;66;03m# Use axis=0 to concatenate along the rows\u001B[39;00m\n\u001B[0;32m     25\u001B[0m \u001B[38;5;66;03m# Convert predictions and residuals to DataFrames for analysis\u001B[39;00m\n\u001B[0;32m     26\u001B[0m predictions_df \u001B[38;5;241m=\u001B[39m pd\u001B[38;5;241m.\u001B[39mDataFrame(predictions, columns\u001B[38;5;241m=\u001B[39m[\u001B[38;5;124m'\u001B[39m\u001B[38;5;124mx\u001B[39m\u001B[38;5;124m'\u001B[39m, \u001B[38;5;124m'\u001B[39m\u001B[38;5;124my\u001B[39m\u001B[38;5;124m'\u001B[39m])\n",
      "\u001B[1;31mValueError\u001B[0m: all the input array dimensions except for the concatenation axis must match exactly, but along dimension 1, the array at index 0 has size 1000 and the array at index 77 has size 100"
     ]
    }
   ],
   "source": [
    "from sklearn.metrics.pairwise import euclidean_distances\n",
    "\n",
    "# Batch size for calculating Euclidean distance\n",
    "batch_size = 1000\n",
    "\n",
    "# Calculate Euclidean distance in batches\n",
    "euclidean_dist_batches = []\n",
    "for i in range(0, len(y_test), batch_size):\n",
    "    start = i\n",
    "    end = min(i + batch_size, len(y_test))\n",
    "    \n",
    "    # Extract batches\n",
    "    y_batch = y_test.values[start:end]\n",
    "    predictions_batch = predictions[start:end]\n",
    "    \n",
    "    # Calculate Euclidean distance for the batch\n",
    "    euclidean_dist_batch = euclidean_distances(y_batch, predictions_batch)\n",
    "    \n",
    "    # Append the batch results to the list\n",
    "    euclidean_dist_batches.append(euclidean_dist_batch)\n",
    "\n",
    "# Concatenate the batch results along the first axis\n",
    "euclidean_dist = np.concatenate(euclidean_dist_batches, axis=0)  # Use axis=0 to concatenate along the rows\n",
    "\n",
    "# Convert predictions and residuals to DataFrames for analysis\n",
    "predictions_df = pd.DataFrame(predictions, columns=['x', 'y'])\n",
    "residuals_df = pd.DataFrame(euclidean_dist, columns=[f'Euclidean_Distance_{i}' for i in range(euclidean_dist.shape[1])])\n",
    "\n",
    "# Concatenate predictions and residuals with the test set for analysis\n",
    "results_df = pd.concat([y_test.reset_index(drop=True), predictions_df, residuals_df], axis=1)\n",
    "\n",
    "# Print the first few rows of the results DataFrame\n",
    "print(results_df.head())\n"
   ],
   "metadata": {
    "collapsed": false,
    "ExecuteTime": {
     "end_time": "2024-01-24T22:13:18.317315400Z",
     "start_time": "2024-01-24T22:13:17.526036300Z"
    }
   },
   "id": "346b1b4fa2af709f"
  },
  {
   "cell_type": "markdown",
   "source": [
    "# Evaluation"
   ],
   "metadata": {
    "collapsed": false
   },
   "id": "e865aeb7ff9a5f58"
  },
  {
   "cell_type": "code",
   "execution_count": 37,
   "outputs": [],
   "source": [
    "# Read the evaluation data\n",
    "eval_dataset = pd.read_csv('dataset/evaluation.csv')  # Adjust the file path as needed"
   ],
   "metadata": {
    "collapsed": false,
    "ExecuteTime": {
     "end_time": "2024-01-06T13:17:22.474415500Z",
     "start_time": "2024-01-06T13:17:21.042263Z"
    }
   },
   "id": "8b171abdcc2a1500"
  },
  {
   "cell_type": "code",
   "execution_count": 38,
   "outputs": [
    {
     "data": {
      "text/plain": "   Id   pmax[0]  negpmax[0]   area[0]     tmax[0]    rms[0]    pmax[1]  \\\n0   0  4.400616   -4.257770  2.860212  176.600000  1.562814   8.738040   \n1   1  5.599571   -2.974570  9.400537   90.677386  1.129626  23.460358   \n2   2  3.731995   -5.662292  1.930957  155.200000  0.921757   4.837952   \n3   3  5.657729   -4.600342  5.593030   30.463179  1.269390  87.293692   \n4   4  3.716666   -4.583796  1.946927   33.600000  1.082743   9.593125   \n\n   negpmax[1]    area[1]    tmax[1]  ...    pmax[16]  negpmax[16]    area[16]  \\\n0   -3.598874   5.554105  70.800000  ...  614.621212   -42.232574  583.237137   \n1  -20.616669  17.998419  72.800000  ...  520.333440   -36.986118  550.540448   \n2   -7.224267   3.289124  67.057395  ...  607.642389   -46.680069  582.825835   \n3  -45.786813  38.422989  71.800000  ...  596.094911   -48.241263  577.835129   \n4   -5.374179   7.767408  72.414459  ...  620.793628   -37.618567  599.834735   \n\n    tmax[16]   rms[16]    pmax[17]  negpmax[17]    area[17]   tmax[17]  \\\n0  70.693530  0.861022  608.931417   -42.728827  568.019556  70.755552   \n1  72.781390  0.259205  613.671695   -44.449564  586.292097  72.900695   \n2  71.407320  0.552691  608.996069   -45.877765  589.520958  71.406020   \n3  72.011986  0.361220  612.500144   -49.572583  583.795426  72.066338   \n4  72.251813  0.390639  621.557649   -45.189832  600.988676  72.151243   \n\n    rms[17]  \n0  0.328075  \n1  0.401326  \n2  0.343592  \n3  0.429650  \n4  0.358549  \n\n[5 rows x 91 columns]",
      "text/html": "<div>\n<style scoped>\n    .dataframe tbody tr th:only-of-type {\n        vertical-align: middle;\n    }\n\n    .dataframe tbody tr th {\n        vertical-align: top;\n    }\n\n    .dataframe thead th {\n        text-align: right;\n    }\n</style>\n<table border=\"1\" class=\"dataframe\">\n  <thead>\n    <tr style=\"text-align: right;\">\n      <th></th>\n      <th>Id</th>\n      <th>pmax[0]</th>\n      <th>negpmax[0]</th>\n      <th>area[0]</th>\n      <th>tmax[0]</th>\n      <th>rms[0]</th>\n      <th>pmax[1]</th>\n      <th>negpmax[1]</th>\n      <th>area[1]</th>\n      <th>tmax[1]</th>\n      <th>...</th>\n      <th>pmax[16]</th>\n      <th>negpmax[16]</th>\n      <th>area[16]</th>\n      <th>tmax[16]</th>\n      <th>rms[16]</th>\n      <th>pmax[17]</th>\n      <th>negpmax[17]</th>\n      <th>area[17]</th>\n      <th>tmax[17]</th>\n      <th>rms[17]</th>\n    </tr>\n  </thead>\n  <tbody>\n    <tr>\n      <th>0</th>\n      <td>0</td>\n      <td>4.400616</td>\n      <td>-4.257770</td>\n      <td>2.860212</td>\n      <td>176.600000</td>\n      <td>1.562814</td>\n      <td>8.738040</td>\n      <td>-3.598874</td>\n      <td>5.554105</td>\n      <td>70.800000</td>\n      <td>...</td>\n      <td>614.621212</td>\n      <td>-42.232574</td>\n      <td>583.237137</td>\n      <td>70.693530</td>\n      <td>0.861022</td>\n      <td>608.931417</td>\n      <td>-42.728827</td>\n      <td>568.019556</td>\n      <td>70.755552</td>\n      <td>0.328075</td>\n    </tr>\n    <tr>\n      <th>1</th>\n      <td>1</td>\n      <td>5.599571</td>\n      <td>-2.974570</td>\n      <td>9.400537</td>\n      <td>90.677386</td>\n      <td>1.129626</td>\n      <td>23.460358</td>\n      <td>-20.616669</td>\n      <td>17.998419</td>\n      <td>72.800000</td>\n      <td>...</td>\n      <td>520.333440</td>\n      <td>-36.986118</td>\n      <td>550.540448</td>\n      <td>72.781390</td>\n      <td>0.259205</td>\n      <td>613.671695</td>\n      <td>-44.449564</td>\n      <td>586.292097</td>\n      <td>72.900695</td>\n      <td>0.401326</td>\n    </tr>\n    <tr>\n      <th>2</th>\n      <td>2</td>\n      <td>3.731995</td>\n      <td>-5.662292</td>\n      <td>1.930957</td>\n      <td>155.200000</td>\n      <td>0.921757</td>\n      <td>4.837952</td>\n      <td>-7.224267</td>\n      <td>3.289124</td>\n      <td>67.057395</td>\n      <td>...</td>\n      <td>607.642389</td>\n      <td>-46.680069</td>\n      <td>582.825835</td>\n      <td>71.407320</td>\n      <td>0.552691</td>\n      <td>608.996069</td>\n      <td>-45.877765</td>\n      <td>589.520958</td>\n      <td>71.406020</td>\n      <td>0.343592</td>\n    </tr>\n    <tr>\n      <th>3</th>\n      <td>3</td>\n      <td>5.657729</td>\n      <td>-4.600342</td>\n      <td>5.593030</td>\n      <td>30.463179</td>\n      <td>1.269390</td>\n      <td>87.293692</td>\n      <td>-45.786813</td>\n      <td>38.422989</td>\n      <td>71.800000</td>\n      <td>...</td>\n      <td>596.094911</td>\n      <td>-48.241263</td>\n      <td>577.835129</td>\n      <td>72.011986</td>\n      <td>0.361220</td>\n      <td>612.500144</td>\n      <td>-49.572583</td>\n      <td>583.795426</td>\n      <td>72.066338</td>\n      <td>0.429650</td>\n    </tr>\n    <tr>\n      <th>4</th>\n      <td>4</td>\n      <td>3.716666</td>\n      <td>-4.583796</td>\n      <td>1.946927</td>\n      <td>33.600000</td>\n      <td>1.082743</td>\n      <td>9.593125</td>\n      <td>-5.374179</td>\n      <td>7.767408</td>\n      <td>72.414459</td>\n      <td>...</td>\n      <td>620.793628</td>\n      <td>-37.618567</td>\n      <td>599.834735</td>\n      <td>72.251813</td>\n      <td>0.390639</td>\n      <td>621.557649</td>\n      <td>-45.189832</td>\n      <td>600.988676</td>\n      <td>72.151243</td>\n      <td>0.358549</td>\n    </tr>\n  </tbody>\n</table>\n<p>5 rows × 91 columns</p>\n</div>"
     },
     "execution_count": 38,
     "metadata": {},
     "output_type": "execute_result"
    }
   ],
   "source": [
    "eval_dataset.head()"
   ],
   "metadata": {
    "collapsed": false,
    "ExecuteTime": {
     "end_time": "2024-01-06T13:17:23.136371400Z",
     "start_time": "2024-01-06T13:17:23.116120500Z"
    }
   },
   "id": "d0dad964d6461306"
  },
  {
   "cell_type": "code",
   "execution_count": 39,
   "outputs": [],
   "source": [
    "#I need id to be used but I cannot fit it so I keep the ids or use copy of dataframe\n",
    "evaluation_dataset = eval_dataset.copy()\n",
    "evaluation_dataset = evaluation_dataset.drop(['Id'], axis=1)"
   ],
   "metadata": {
    "collapsed": false,
    "ExecuteTime": {
     "end_time": "2024-01-06T13:17:40.101364600Z",
     "start_time": "2024-01-06T13:17:40.044994Z"
    }
   },
   "id": "adb73e197d391295"
  },
  {
   "cell_type": "code",
   "execution_count": 40,
   "outputs": [],
   "source": [
    "# Make predictions on the evaluation data\n",
    "evaluation_predictions = model.predict(evaluation_dataset)"
   ],
   "metadata": {
    "collapsed": false,
    "ExecuteTime": {
     "end_time": "2024-01-06T13:17:45.450542900Z",
     "start_time": "2024-01-06T13:17:45.411787600Z"
    }
   },
   "id": "80e36717dd718433"
  },
  {
   "cell_type": "code",
   "execution_count": 41,
   "outputs": [],
   "source": [
    "# Format the predictions as strings in the desired format\n",
    "formatted_predictions = ['|'.join(map(str, pred)) for pred in evaluation_predictions]"
   ],
   "metadata": {
    "collapsed": false,
    "ExecuteTime": {
     "end_time": "2024-01-06T13:17:47.526577700Z",
     "start_time": "2024-01-06T13:17:47.366562900Z"
    }
   },
   "id": "fbe9ba254313f917"
  },
  {
   "cell_type": "code",
   "execution_count": 42,
   "outputs": [
    {
     "data": {
      "text/plain": "list"
     },
     "execution_count": 42,
     "metadata": {},
     "output_type": "execute_result"
    }
   ],
   "source": [
    "type(formatted_predictions)"
   ],
   "metadata": {
    "collapsed": false,
    "ExecuteTime": {
     "end_time": "2024-01-06T13:17:49.413532400Z",
     "start_time": "2024-01-06T13:17:49.390308900Z"
    }
   },
   "id": "fc3b4dcfa34e8a1b"
  },
  {
   "cell_type": "code",
   "execution_count": 43,
   "outputs": [],
   "source": [
    "# Create a new DataFrame with 'Id' and 'Predicted' columns\n",
    "evaluation_results = pd.DataFrame({'Id': eval_dataset['Id'], 'Predicted': formatted_predictions})"
   ],
   "metadata": {
    "collapsed": false,
    "ExecuteTime": {
     "end_time": "2024-01-06T13:17:56.200804200Z",
     "start_time": "2024-01-06T13:17:56.170109100Z"
    }
   },
   "id": "25006b7252bc585d"
  },
  {
   "cell_type": "code",
   "execution_count": 45,
   "outputs": [],
   "source": [
    "# Save the results to evaluation2.csv\n",
    "evaluation_results.to_csv('dataset/result.csv', index=False)"
   ],
   "metadata": {
    "collapsed": false,
    "ExecuteTime": {
     "end_time": "2024-01-06T13:19:19.503367100Z",
     "start_time": "2024-01-06T13:19:19.380502500Z"
    }
   },
   "id": "faaa9e41fe0d4267"
  }
 ],
 "metadata": {
  "kernelspec": {
   "display_name": "Python 3",
   "language": "python",
   "name": "python3"
  },
  "language_info": {
   "codemirror_mode": {
    "name": "ipython",
    "version": 2
   },
   "file_extension": ".py",
   "mimetype": "text/x-python",
   "name": "python",
   "nbconvert_exporter": "python",
   "pygments_lexer": "ipython2",
   "version": "2.7.6"
  }
 },
 "nbformat": 4,
 "nbformat_minor": 5
}
