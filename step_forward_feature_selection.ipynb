{
 "cells": [
  {
   "cell_type": "code",
   "execution_count": 9,
   "id": "initial_id",
   "metadata": {
    "collapsed": true,
    "ExecuteTime": {
     "end_time": "2024-01-24T21:31:38.828025700Z",
     "start_time": "2024-01-24T21:31:38.812592200Z"
    }
   },
   "outputs": [],
   "source": [
    "from sklearn.ensemble import RandomForestRegressor, RandomForestClassifier\n",
    "from sklearn.metrics import roc_auc_score, r2_score\n",
    "from sklearn.model_selection import train_test_split\n",
    "import pandas as pd\n",
    "from mlxtend.feature_selection import SequentialFeatureSelector as SFS\n",
    "\n",
    "from sklearn.multioutput import MultiOutputRegressor"
   ]
  },
  {
   "cell_type": "code",
   "execution_count": 20,
   "outputs": [
    {
     "data": {
      "text/plain": "((385500, 92),\n Index(['x', 'y', 'pmax[0]', 'negpmax[0]', 'area[0]', 'tmax[0]', 'rms[0]',\n        'pmax[1]', 'negpmax[1]', 'area[1]', 'tmax[1]', 'rms[1]', 'pmax[2]',\n        'negpmax[2]', 'area[2]', 'tmax[2]', 'rms[2]', 'pmax[3]', 'negpmax[3]',\n        'area[3]', 'tmax[3]', 'rms[3]', 'pmax[4]', 'negpmax[4]', 'area[4]',\n        'tmax[4]', 'rms[4]', 'pmax[5]', 'negpmax[5]', 'area[5]', 'tmax[5]',\n        'rms[5]', 'pmax[6]', 'negpmax[6]', 'area[6]', 'tmax[6]', 'rms[6]',\n        'pmax[7]', 'negpmax[7]', 'area[7]', 'tmax[7]', 'rms[7]', 'pmax[8]',\n        'negpmax[8]', 'area[8]', 'tmax[8]', 'rms[8]', 'pmax[9]', 'negpmax[9]',\n        'area[9]', 'tmax[9]', 'rms[9]', 'pmax[10]', 'negpmax[10]', 'area[10]',\n        'tmax[10]', 'rms[10]', 'pmax[11]', 'negpmax[11]', 'area[11]',\n        'tmax[11]', 'rms[11]', 'pmax[12]', 'negpmax[12]', 'area[12]',\n        'tmax[12]', 'rms[12]', 'pmax[13]', 'negpmax[13]', 'area[13]',\n        'tmax[13]', 'rms[13]', 'pmax[14]', 'negpmax[14]', 'area[14]',\n        'tmax[14]', 'rms[14]', 'pmax[15]', 'negpmax[15]', 'area[15]',\n        'tmax[15]', 'rms[15]', 'pmax[16]', 'negpmax[16]', 'area[16]',\n        'tmax[16]', 'rms[16]', 'pmax[17]', 'negpmax[17]', 'area[17]',\n        'tmax[17]', 'rms[17]'],\n       dtype='object'))"
     },
     "execution_count": 20,
     "metadata": {},
     "output_type": "execute_result"
    }
   ],
   "source": [
    "data = pd.read_csv('dataset/development.csv')\n",
    "data.shape, data.columns"
   ],
   "metadata": {
    "collapsed": false,
    "ExecuteTime": {
     "end_time": "2024-01-24T22:54:21.349955400Z",
     "start_time": "2024-01-24T22:54:17.596514Z"
    }
   },
   "id": "116309ca1e728197"
  },
  {
   "cell_type": "code",
   "execution_count": 21,
   "outputs": [
    {
     "data": {
      "text/plain": "Index(['x', 'y', 'pmax[1]', 'negpmax[1]', 'area[1]', 'tmax[1]', 'rms[1]',\n       'pmax[2]', 'negpmax[2]', 'area[2]', 'tmax[2]', 'rms[2]', 'pmax[3]',\n       'negpmax[3]', 'area[3]', 'tmax[3]', 'rms[3]', 'pmax[4]', 'negpmax[4]',\n       'area[4]', 'tmax[4]', 'rms[4]', 'pmax[5]', 'negpmax[5]', 'area[5]',\n       'tmax[5]', 'rms[5]', 'pmax[6]', 'negpmax[6]', 'area[6]', 'tmax[6]',\n       'rms[6]', 'pmax[8]', 'negpmax[8]', 'area[8]', 'tmax[8]', 'rms[8]',\n       'pmax[9]', 'negpmax[9]', 'area[9]', 'tmax[9]', 'rms[9]', 'pmax[10]',\n       'negpmax[10]', 'area[10]', 'tmax[10]', 'rms[10]', 'pmax[11]',\n       'negpmax[11]', 'area[11]', 'tmax[11]', 'rms[11]', 'pmax[13]',\n       'negpmax[13]', 'area[13]', 'tmax[13]', 'rms[13]', 'pmax[14]',\n       'negpmax[14]', 'area[14]', 'tmax[14]', 'rms[14]', 'pmax[15]',\n       'negpmax[15]', 'area[15]', 'tmax[15]', 'rms[15]'],\n      dtype='object')"
     },
     "execution_count": 21,
     "metadata": {},
     "output_type": "execute_result"
    }
   ],
   "source": [
    "oolumn_drop = ['pmax[0]', 'negpmax[0]', 'area[0]', 'tmax[0]', 'rms[0]',\n",
    "        'pmax[7]', 'negpmax[7]', 'area[7]', 'tmax[7]', 'rms[7]',\n",
    "        'pmax[12]', 'negpmax[12]', 'area[12]', 'tmax[12]', 'rms[12]',\n",
    "        'pmax[16]', 'negpmax[16]', 'area[16]', 'tmax[16]', 'rms[16]',\n",
    "        'pmax[17]', 'negpmax[17]', 'area[17]', 'tmax[17]', 'rms[17]' ]\n",
    "data.drop(columns=oolumn_drop, inplace=True, axis=1)\n",
    "data.columns"
   ],
   "metadata": {
    "collapsed": false,
    "ExecuteTime": {
     "end_time": "2024-01-24T22:54:26.961919800Z",
     "start_time": "2024-01-24T22:54:26.946262700Z"
    }
   },
   "id": "5eb6f4fb4811b0df"
  },
  {
   "cell_type": "code",
   "execution_count": 23,
   "outputs": [],
   "source": [
    "data.to_csv('dataset/2_development.csv')"
   ],
   "metadata": {
    "collapsed": false,
    "ExecuteTime": {
     "end_time": "2024-01-24T23:00:40.973737Z",
     "start_time": "2024-01-24T23:00:22.045832100Z"
    }
   },
   "id": "13356eedca73a0dc"
  },
  {
   "cell_type": "code",
   "execution_count": 16,
   "outputs": [],
   "source": [
    "# Combine 'x' and 'y' into a new 'target' column\n",
    "data = data.assign(target=list(zip(data['x'], data['y'])))\n",
    "# Drop the original 'x' and 'y' columns if needed\n",
    "data = data.drop(['x', 'y'], axis=1)\n",
    "# Convert 'target' to a 2D array\n",
    "y = pd.DataFrame(data['target'].tolist(), columns=['x', 'y'])"
   ],
   "metadata": {
    "collapsed": false,
    "ExecuteTime": {
     "end_time": "2024-01-24T22:48:22.616505700Z",
     "start_time": "2024-01-24T22:48:22.143621300Z"
    }
   },
   "id": "df9928bc4f944d30"
  },
  {
   "cell_type": "code",
   "execution_count": 13,
   "outputs": [
    {
     "data": {
      "text/plain": "((269850, 90), (115650, 90))"
     },
     "execution_count": 13,
     "metadata": {},
     "output_type": "execute_result"
    }
   ],
   "source": [
    "# separate train and test sets\n",
    "\n",
    "X_train, X_test, y_train, y_test = train_test_split(\n",
    "    data.drop(labels=['target'], axis=1),\n",
    "    y,\n",
    "    test_size=0.3,\n",
    "    random_state=0)\n",
    "\n",
    "X_train.shape, X_test.shape"
   ],
   "metadata": {
    "collapsed": false,
    "ExecuteTime": {
     "end_time": "2024-01-24T21:35:32.114907900Z",
     "start_time": "2024-01-24T21:35:31.864713300Z"
    }
   },
   "id": "5997e09f71d43e1c"
  },
  {
   "cell_type": "code",
   "execution_count": null,
   "outputs": [],
   "source": [
    "# remove correlated features to reduce the feature space\n",
    "\n",
    "def correlation(dataset, threshold):\n",
    "    col_corr = set()  # Set of all the names of correlated columns\n",
    "    corr_matrix = dataset.corr()\n",
    "    for i in range(len(corr_matrix.columns)):\n",
    "        for j in range(i):\n",
    "            if abs(corr_matrix.iloc[i, j]) > threshold: # we are interested in absolute coeff value\n",
    "                colname = corr_matrix.columns[i]  # getting the name of column\n",
    "                col_corr.add(colname)\n",
    "    return col_corr\n",
    "\n",
    "corr_features = correlation(X_train, 0.8)\n",
    "print('correlated features: ', len(set(corr_features)) )"
   ],
   "metadata": {
    "collapsed": false
   },
   "id": "225249e6433edddd"
  },
  {
   "cell_type": "code",
   "execution_count": 14,
   "outputs": [
    {
     "name": "stderr",
     "output_type": "stream",
     "text": [
      "C:\\mine\\Sinaptica\\flask_project\\dsl\\Resistive_Silicon_Detector_2D_surface_detector_regression_predictor\\.venv\\lib\\site-packages\\sklearn\\model_selection\\_validation.py:839: UserWarning: Scoring failed. The score on this train-test partition for these parameters will be set to nan. Details: \n",
      "Traceback (most recent call last):\n",
      "  File \"C:\\mine\\Sinaptica\\flask_project\\dsl\\Resistive_Silicon_Detector_2D_surface_detector_regression_predictor\\.venv\\lib\\site-packages\\sklearn\\metrics\\_scorer.py\", line 136, in __call__\n",
      "    score = scorer._score(\n",
      "  File \"C:\\mine\\Sinaptica\\flask_project\\dsl\\Resistive_Silicon_Detector_2D_surface_detector_regression_predictor\\.venv\\lib\\site-packages\\sklearn\\metrics\\_scorer.py\", line 452, in _score\n",
      "    raise ValueError(\"{0} format is not supported\".format(y_type))\n",
      "ValueError: multiclass-multioutput format is not supported\n",
      "\n",
      "  warnings.warn(\n",
      "C:\\mine\\Sinaptica\\flask_project\\dsl\\Resistive_Silicon_Detector_2D_surface_detector_regression_predictor\\.venv\\lib\\site-packages\\sklearn\\model_selection\\_validation.py:839: UserWarning: Scoring failed. The score on this train-test partition for these parameters will be set to nan. Details: \n",
      "Traceback (most recent call last):\n",
      "  File \"C:\\mine\\Sinaptica\\flask_project\\dsl\\Resistive_Silicon_Detector_2D_surface_detector_regression_predictor\\.venv\\lib\\site-packages\\sklearn\\metrics\\_scorer.py\", line 136, in __call__\n",
      "    score = scorer._score(\n",
      "  File \"C:\\mine\\Sinaptica\\flask_project\\dsl\\Resistive_Silicon_Detector_2D_surface_detector_regression_predictor\\.venv\\lib\\site-packages\\sklearn\\metrics\\_scorer.py\", line 452, in _score\n",
      "    raise ValueError(\"{0} format is not supported\".format(y_type))\n",
      "ValueError: multiclass-multioutput format is not supported\n",
      "\n",
      "  warnings.warn(\n",
      "\n",
      "STOPPING EARLY DUE TO KEYBOARD INTERRUPT..."
     ]
    }
   ],
   "source": [
    "\n",
    "sfs = SFS(MultiOutputRegressor(RandomForestClassifier(n_estimators=10, n_jobs=4, random_state=0)), \n",
    "           k_features=60, # the more features we want, the longer it will take to run\n",
    "           forward=True, \n",
    "           floating=False, # see the docs for more details in this parameter\n",
    "           verbose=2, # this indicates how much to print out intermediate steps\n",
    "           scoring='roc_auc',\n",
    "           cv=2,\n",
    "         )\n",
    "\n",
    "sfs = sfs.fit(X_train, y_train)"
   ],
   "metadata": {
    "collapsed": false,
    "ExecuteTime": {
     "end_time": "2024-01-24T21:36:13.270839700Z",
     "start_time": "2024-01-24T21:35:35.883151100Z"
    }
   },
   "id": "846eaf6ed3d1319e"
  },
  {
   "cell_type": "code",
   "execution_count": null,
   "outputs": [],
   "source": [],
   "metadata": {
    "collapsed": false
   },
   "id": "a1c7a673616191d9"
  }
 ],
 "metadata": {
  "kernelspec": {
   "display_name": "Python 3",
   "language": "python",
   "name": "python3"
  },
  "language_info": {
   "codemirror_mode": {
    "name": "ipython",
    "version": 2
   },
   "file_extension": ".py",
   "mimetype": "text/x-python",
   "name": "python",
   "nbconvert_exporter": "python",
   "pygments_lexer": "ipython2",
   "version": "2.7.6"
  }
 },
 "nbformat": 4,
 "nbformat_minor": 5
}
